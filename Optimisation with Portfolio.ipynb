{
 "cells": [
  {
   "cell_type": "code",
   "execution_count": 109,
   "metadata": {},
   "outputs": [
    {
     "data": {
      "application/javascript": [
       "\n",
       "        setTimeout(function() {\n",
       "            var nbb_cell_id = 109;\n",
       "            var nbb_formatted_code = \"import importlib\\nimport model.Portfolio as Portfolio\\n\\n# importlib.reload(Portfolio)\";\n",
       "            var nbb_cells = Jupyter.notebook.get_cells();\n",
       "            for (var i = 0; i < nbb_cells.length; ++i) {\n",
       "                if (nbb_cells[i].input_prompt_number == nbb_cell_id) {\n",
       "                    nbb_cells[i].set_text(nbb_formatted_code);\n",
       "                    break;\n",
       "                }\n",
       "            }\n",
       "        }, 500);\n",
       "        "
      ],
      "text/plain": [
       "<IPython.core.display.Javascript object>"
      ]
     },
     "metadata": {},
     "output_type": "display_data"
    }
   ],
   "source": [
    "import importlib\n",
    "import model.Portfolio as Portfolio\n",
    "\n",
    "# importlib.reload(Portfolio)"
   ]
  },
  {
   "cell_type": "code",
   "execution_count": 92,
   "metadata": {},
   "outputs": [
    {
     "data": {
      "application/javascript": [
       "\n",
       "        setTimeout(function() {\n",
       "            var nbb_cell_id = 92;\n",
       "            var nbb_formatted_code = \"names = [\\\"VUSA\\\", \\\"A35\\\", \\\"S59\\\", \\\"VUSD\\\", \\\"BAB\\\", \\\"IWDA\\\", \\\"Z74\\\", \\\"ES3\\\", \\\"VWRD\\\"]\\np = Portfolio.Portfolio()\\n\\n# Add all assets\\nfor name in names:\\n    p.addAsset(f\\\"data/{name}.csv\\\", name)\\n\\n# Convert non SGD assets to SGD\\np.addExchangeRate(\\\"data/forex/SGDEUR.csv\\\", \\\"EUR\\\", True)\\np.addExchangeRate(\\\"data/forex/USDSGD.csv\\\", \\\"USD\\\", False)\\np.exchangeAdjustment(0, \\\"EUR\\\")\\np.exchangeAdjustment(3, \\\"USD\\\")\\np.exchangeAdjustment(4, \\\"USD\\\")\\np.exchangeAdjustment(5, \\\"USD\\\")\\np.exchangeAdjustment(8, \\\"USD\\\")\";\n",
       "            var nbb_cells = Jupyter.notebook.get_cells();\n",
       "            for (var i = 0; i < nbb_cells.length; ++i) {\n",
       "                if (nbb_cells[i].input_prompt_number == nbb_cell_id) {\n",
       "                    nbb_cells[i].set_text(nbb_formatted_code);\n",
       "                    break;\n",
       "                }\n",
       "            }\n",
       "        }, 500);\n",
       "        "
      ],
      "text/plain": [
       "<IPython.core.display.Javascript object>"
      ]
     },
     "metadata": {},
     "output_type": "display_data"
    }
   ],
   "source": [
    "names = [\"VUSA\", \"A35\", \"S59\", \"VUSD\", \"BAB\", \"IWDA\", \"Z74\", \"ES3\", \"VWRD\"]\n",
    "p = Portfolio.Portfolio()\n",
    "\n",
    "# Add all assets\n",
    "for name in names:\n",
    "    p.addAsset(f\"data/{name}.csv\", name)\n",
    "\n",
    "# Convert non SGD assets to SGD\n",
    "p.addExchangeRate(\"data/forex/SGDEUR.csv\", \"EUR\", True)\n",
    "p.addExchangeRate(\"data/forex/USDSGD.csv\", \"USD\", False)\n",
    "p.exchangeAdjustment(0, \"EUR\")\n",
    "p.exchangeAdjustment(3, \"USD\")\n",
    "p.exchangeAdjustment(4, \"USD\")\n",
    "p.exchangeAdjustment(5, \"USD\")\n",
    "p.exchangeAdjustment(8, \"USD\")"
   ]
  },
  {
   "cell_type": "code",
   "execution_count": 108,
   "metadata": {},
   "outputs": [
    {
     "data": {
      "text/plain": [
       "{'returns': 0.046602380697228225,\n",
       " 'variance': 0.004724437320510276,\n",
       " 'sharpe': 9.864112387503281}"
      ]
     },
     "execution_count": 108,
     "metadata": {},
     "output_type": "execute_result"
    },
    {
     "data": {
      "application/javascript": [
       "\n",
       "        setTimeout(function() {\n",
       "            var nbb_cell_id = 108;\n",
       "            var nbb_formatted_code = \"currentWeight = [\\n    0.08992020522,\\n    0.2744348384,\\n    0.03070927321,\\n    0.01896821775,\\n    0.06166520726,\\n    0.06204753154,\\n    0.02053451402,\\n    0.3393806347,\\n    0.102339578,\\n]\\n\\np.portfolioPerformance(currentWeight)\";\n",
       "            var nbb_cells = Jupyter.notebook.get_cells();\n",
       "            for (var i = 0; i < nbb_cells.length; ++i) {\n",
       "                if (nbb_cells[i].input_prompt_number == nbb_cell_id) {\n",
       "                    nbb_cells[i].set_text(nbb_formatted_code);\n",
       "                    break;\n",
       "                }\n",
       "            }\n",
       "        }, 500);\n",
       "        "
      ],
      "text/plain": [
       "<IPython.core.display.Javascript object>"
      ]
     },
     "metadata": {},
     "output_type": "display_data"
    }
   ],
   "source": [
    "currentWeight = [\n",
    "    0.08992020522,\n",
    "    0.2744348384,\n",
    "    0.03070927321,\n",
    "    0.01896821775,\n",
    "    0.06166520726,\n",
    "    0.06204753154,\n",
    "    0.02053451402,\n",
    "    0.3393806347,\n",
    "    0.102339578,\n",
    "]\n",
    "\n",
    "p.portfolioPerformance(currentWeight)"
   ]
  },
  {
   "cell_type": "code",
   "execution_count": 95,
   "metadata": {},
   "outputs": [
    {
     "data": {
      "application/javascript": [
       "\n",
       "        setTimeout(function() {\n",
       "            var nbb_cell_id = 95;\n",
       "            var nbb_formatted_code = \"def randomWeight(length):\\n    w = np.random.random(length)\\n    w /= np.sum(w)\\n    return w\";\n",
       "            var nbb_cells = Jupyter.notebook.get_cells();\n",
       "            for (var i = 0; i < nbb_cells.length; ++i) {\n",
       "                if (nbb_cells[i].input_prompt_number == nbb_cell_id) {\n",
       "                    nbb_cells[i].set_text(nbb_formatted_code);\n",
       "                    break;\n",
       "                }\n",
       "            }\n",
       "        }, 500);\n",
       "        "
      ],
      "text/plain": [
       "<IPython.core.display.Javascript object>"
      ]
     },
     "metadata": {},
     "output_type": "display_data"
    }
   ],
   "source": [
    "def randomWeight(length):\n",
    "    w = np.random.random(length)\n",
    "    w /= np.sum(w)p.portfolioPerformance(currentWeight)\n",
    "\n",
    "    return w"
   ]
  },
  {
   "cell_type": "code",
   "execution_count": 105,
   "metadata": {},
   "outputs": [
    {
     "name": "stdout",
     "output_type": "stream",
     "text": [
      "CPU times: user 7min 15s, sys: 197 ms, total: 7min 15s\n",
      "Wall time: 7min 15s\n"
     ]
    },
    {
     "data": {
      "application/javascript": [
       "\n",
       "        setTimeout(function() {\n",
       "            var nbb_cell_id = 105;\n",
       "            var nbb_formatted_code = \"%%time\\n\\nnoSimulations = 100000\\nrf = 0.02\\nsimWeights = []\\nsimRets = []\\nsimVols = []\\nsimSharpes = []\\n\\nfor i in range(noSimulations):\\n    weights = randomWeight(len(names))\\n    perf = p.portfolioPerformance(weights)\\n\\n    simWeights.append(weights)\\n    simRets.append(perf[\\\"returns\\\"])\\n    simVols.append(perf[\\\"variance\\\"])\\n    simSharpes.append(perf[\\\"sharpe\\\"])\";\n",
       "            var nbb_cells = Jupyter.notebook.get_cells();\n",
       "            for (var i = 0; i < nbb_cells.length; ++i) {\n",
       "                if (nbb_cells[i].input_prompt_number == nbb_cell_id) {\n",
       "                    nbb_cells[i].set_text(nbb_formatted_code);\n",
       "                    break;\n",
       "                }\n",
       "            }\n",
       "        }, 500);\n",
       "        "
      ],
      "text/plain": [
       "<IPython.core.display.Javascript object>"
      ]
     },
     "metadata": {},
     "output_type": "display_data"
    }
   ],
   "source": [
    "%%time\n",
    "\n",
    "noSimulations = 100000\n",
    "rf = 0.02\n",
    "simWeights = []\n",
    "simRets = []\n",
    "simVols = []\n",
    "simSharpes = []\n",
    "\n",
    "for i in range(noSimulations):\n",
    "    weights = randomWeight(len(names))\n",
    "    perf = p.portfolioPerformance(weights, rf=rf)\n",
    "\n",
    "    simWeights.append(weights)\n",
    "    simRets.append(perf[\"returns\"])\n",
    "    simVols.append(perf[\"variance\"])\n",
    "    simSharpes.append(perf[\"sharpe\"])"
   ]
  },
  {
   "cell_type": "code",
   "execution_count": 106,
   "metadata": {},
   "outputs": [
    {
     "data": {
      "image/png": "[encoded data removed]",
      "text/plain": [
       "<Figure size 576x288 with 2 Axes>"
      ]
     },
     "metadata": {
      "needs_background": "light"
     },
     "output_type": "display_data"
    },
    {
     "data": {
      "application/javascript": [
       "\n",
       "        setTimeout(function() {\n",
       "            var nbb_cell_id = 106;\n",
       "            var nbb_formatted_code = \"plt.figure(figsize=(8, 4))\\nplt.scatter(simVols, simRets, c=simSharpes, marker=\\\"o\\\")\\nplt.grid(True)\\nplt.xlabel(\\\"Expected volatility\\\")\\nplt.ylabel(\\\"Expected return\\\")\\nplt.colorbar(label=\\\"Sharpe ratio\\\")\\nplt.show()\";\n",
       "            var nbb_cells = Jupyter.notebook.get_cells();\n",
       "            for (var i = 0; i < nbb_cells.length; ++i) {\n",
       "                if (nbb_cells[i].input_prompt_number == nbb_cell_id) {\n",
       "                    nbb_cells[i].set_text(nbb_formatted_code);\n",
       "                    break;\n",
       "                }\n",
       "            }\n",
       "        }, 500);\n",
       "        "
      ],
      "text/plain": [
       "<IPython.core.display.Javascript object>"
      ]
     },
     "metadata": {},
     "output_type": "display_data"
    }
   ],
   "source": [
    "plt.figure(figsize=(8, 4))\n",
    "plt.scatter(simVols, simRets, c=simSharpes, marker=\"o\")\n",
    "plt.grid(True)\n",
    "plt.xlabel(\"Expected volatility\")\n",
    "plt.ylabel(\"Expected return\")\n",
    "plt.colorbar(label=\"Sharpe ratio\")\n",
    "plt.show()"
   ]
  },
  {
   "cell_type": "code",
   "execution_count": 107,
   "metadata": {},
   "outputs": [
    {
     "data": {
      "text/html": [
       "<div>\n",
       "<style scoped>\n",
       "    .dataframe tbody tr th:only-of-type {\n",
       "        vertical-align: middle;\n",
       "    }\n",
       "\n",
       "    .dataframe tbody tr th {\n",
       "        vertical-align: top;\n",
       "    }\n",
       "\n",
       "    .dataframe thead th {\n",
       "        text-align: right;\n",
       "    }\n",
       "</style>\n",
       "<table border=\"1\" class=\"dataframe\">\n",
       "  <thead>\n",
       "    <tr style=\"text-align: right;\">\n",
       "      <th></th>\n",
       "      <th>SharpeRatio</th>\n",
       "      <th>Returns</th>\n",
       "      <th>Volatility</th>\n",
       "      <th>VUSA</th>\n",
       "      <th>A35</th>\n",
       "      <th>S59</th>\n",
       "      <th>VUSD</th>\n",
       "      <th>BAB</th>\n",
       "      <th>IWDA</th>\n",
       "      <th>Z74</th>\n",
       "      <th>ES3</th>\n",
       "      <th>VWRD</th>\n",
       "    </tr>\n",
       "  </thead>\n",
       "  <tbody>\n",
       "    <tr>\n",
       "      <th>0</th>\n",
       "      <td>17.586363</td>\n",
       "      <td>0.060570</td>\n",
       "      <td>0.003444</td>\n",
       "      <td>0.072418</td>\n",
       "      <td>0.212689</td>\n",
       "      <td>0.012151</td>\n",
       "      <td>0.132682</td>\n",
       "      <td>0.302197</td>\n",
       "      <td>0.022230</td>\n",
       "      <td>0.115713</td>\n",
       "      <td>0.098291</td>\n",
       "      <td>0.031629</td>\n",
       "    </tr>\n",
       "    <tr>\n",
       "      <th>1</th>\n",
       "      <td>17.591324</td>\n",
       "      <td>0.066653</td>\n",
       "      <td>0.003789</td>\n",
       "      <td>0.179694</td>\n",
       "      <td>0.188763</td>\n",
       "      <td>0.053561</td>\n",
       "      <td>0.068376</td>\n",
       "      <td>0.344061</td>\n",
       "      <td>0.094722</td>\n",
       "      <td>0.020814</td>\n",
       "      <td>0.026631</td>\n",
       "      <td>0.023380</td>\n",
       "    </tr>\n",
       "    <tr>\n",
       "      <th>2</th>\n",
       "      <td>17.719271</td>\n",
       "      <td>0.058088</td>\n",
       "      <td>0.003278</td>\n",
       "      <td>0.226748</td>\n",
       "      <td>0.179189</td>\n",
       "      <td>0.078401</td>\n",
       "      <td>0.031932</td>\n",
       "      <td>0.345407</td>\n",
       "      <td>0.024440</td>\n",
       "      <td>0.021636</td>\n",
       "      <td>0.062442</td>\n",
       "      <td>0.029806</td>\n",
       "    </tr>\n",
       "    <tr>\n",
       "      <th>3</th>\n",
       "      <td>17.763091</td>\n",
       "      <td>0.062938</td>\n",
       "      <td>0.003543</td>\n",
       "      <td>0.133969</td>\n",
       "      <td>0.136979</td>\n",
       "      <td>0.016631</td>\n",
       "      <td>0.042968</td>\n",
       "      <td>0.335027</td>\n",
       "      <td>0.074833</td>\n",
       "      <td>0.095176</td>\n",
       "      <td>0.132276</td>\n",
       "      <td>0.032141</td>\n",
       "    </tr>\n",
       "    <tr>\n",
       "      <th>4</th>\n",
       "      <td>17.910012</td>\n",
       "      <td>0.056668</td>\n",
       "      <td>0.003164</td>\n",
       "      <td>0.036104</td>\n",
       "      <td>0.271452</td>\n",
       "      <td>0.042106</td>\n",
       "      <td>0.128020</td>\n",
       "      <td>0.302118</td>\n",
       "      <td>0.073971</td>\n",
       "      <td>0.061930</td>\n",
       "      <td>0.078028</td>\n",
       "      <td>0.006271</td>\n",
       "    </tr>\n",
       "    <tr>\n",
       "      <th>5</th>\n",
       "      <td>18.128444</td>\n",
       "      <td>0.055145</td>\n",
       "      <td>0.003042</td>\n",
       "      <td>0.102863</td>\n",
       "      <td>0.251718</td>\n",
       "      <td>0.031181</td>\n",
       "      <td>0.020645</td>\n",
       "      <td>0.335275</td>\n",
       "      <td>0.018312</td>\n",
       "      <td>0.096944</td>\n",
       "      <td>0.027709</td>\n",
       "      <td>0.115353</td>\n",
       "    </tr>\n",
       "    <tr>\n",
       "      <th>6</th>\n",
       "      <td>18.235494</td>\n",
       "      <td>0.060104</td>\n",
       "      <td>0.003296</td>\n",
       "      <td>0.084218</td>\n",
       "      <td>0.265312</td>\n",
       "      <td>0.000736</td>\n",
       "      <td>0.086479</td>\n",
       "      <td>0.271639</td>\n",
       "      <td>0.088419</td>\n",
       "      <td>0.069527</td>\n",
       "      <td>0.132408</td>\n",
       "      <td>0.001260</td>\n",
       "    </tr>\n",
       "    <tr>\n",
       "      <th>7</th>\n",
       "      <td>18.372736</td>\n",
       "      <td>0.055728</td>\n",
       "      <td>0.003033</td>\n",
       "      <td>0.143624</td>\n",
       "      <td>0.261077</td>\n",
       "      <td>0.006435</td>\n",
       "      <td>0.005382</td>\n",
       "      <td>0.281305</td>\n",
       "      <td>0.069550</td>\n",
       "      <td>0.081220</td>\n",
       "      <td>0.128430</td>\n",
       "      <td>0.022976</td>\n",
       "    </tr>\n",
       "    <tr>\n",
       "      <th>8</th>\n",
       "      <td>18.421896</td>\n",
       "      <td>0.071838</td>\n",
       "      <td>0.003900</td>\n",
       "      <td>0.087384</td>\n",
       "      <td>0.156163</td>\n",
       "      <td>0.003288</td>\n",
       "      <td>0.110083</td>\n",
       "      <td>0.370604</td>\n",
       "      <td>0.117376</td>\n",
       "      <td>0.037562</td>\n",
       "      <td>0.101586</td>\n",
       "      <td>0.015954</td>\n",
       "    </tr>\n",
       "    <tr>\n",
       "      <th>9</th>\n",
       "      <td>18.612759</td>\n",
       "      <td>0.058980</td>\n",
       "      <td>0.003169</td>\n",
       "      <td>0.175805</td>\n",
       "      <td>0.209894</td>\n",
       "      <td>0.022914</td>\n",
       "      <td>0.040349</td>\n",
       "      <td>0.305930</td>\n",
       "      <td>0.030847</td>\n",
       "      <td>0.036826</td>\n",
       "      <td>0.148211</td>\n",
       "      <td>0.029224</td>\n",
       "    </tr>\n",
       "  </tbody>\n",
       "</table>\n",
       "</div>"
      ],
      "text/plain": [
       "   SharpeRatio   Returns  Volatility      VUSA       A35       S59      VUSD  \\\n",
       "0    17.586363  0.060570    0.003444  0.072418  0.212689  0.012151  0.132682   \n",
       "1    17.591324  0.066653    0.003789  0.179694  0.188763  0.053561  0.068376   \n",
       "2    17.719271  0.058088    0.003278  0.226748  0.179189  0.078401  0.031932   \n",
       "3    17.763091  0.062938    0.003543  0.133969  0.136979  0.016631  0.042968   \n",
       "4    17.910012  0.056668    0.003164  0.036104  0.271452  0.042106  0.128020   \n",
       "5    18.128444  0.055145    0.003042  0.102863  0.251718  0.031181  0.020645   \n",
       "6    18.235494  0.060104    0.003296  0.084218  0.265312  0.000736  0.086479   \n",
       "7    18.372736  0.055728    0.003033  0.143624  0.261077  0.006435  0.005382   \n",
       "8    18.421896  0.071838    0.003900  0.087384  0.156163  0.003288  0.110083   \n",
       "9    18.612759  0.058980    0.003169  0.175805  0.209894  0.022914  0.040349   \n",
       "\n",
       "        BAB      IWDA       Z74       ES3      VWRD  \n",
       "0  0.302197  0.022230  0.115713  0.098291  0.031629  \n",
       "1  0.344061  0.094722  0.020814  0.026631  0.023380  \n",
       "2  0.345407  0.024440  0.021636  0.062442  0.029806  \n",
       "3  0.335027  0.074833  0.095176  0.132276  0.032141  \n",
       "4  0.302118  0.073971  0.061930  0.078028  0.006271  \n",
       "5  0.335275  0.018312  0.096944  0.027709  0.115353  \n",
       "6  0.271639  0.088419  0.069527  0.132408  0.001260  \n",
       "7  0.281305  0.069550  0.081220  0.128430  0.022976  \n",
       "8  0.370604  0.117376  0.037562  0.101586  0.015954  \n",
       "9  0.305930  0.030847  0.036826  0.148211  0.029224  "
      ]
     },
     "execution_count": 107,
     "metadata": {},
     "output_type": "execute_result"
    },
    {
     "data": {
      "application/javascript": [
       "\n",
       "        setTimeout(function() {\n",
       "            var nbb_cell_id = 107;\n",
       "            var nbb_formatted_code = \"# Get top 10 portfolio with highest sharpe\\nsortedIndices = np.argsort(simSharpes)[-10:]\\n\\nresults = []\\nfor x in sortedIndices:\\n    results.append(np.insert(simWeights[x], 0, [simSharpes[x], simRets[x], simVols[x]]))\\npd.DataFrame(results, columns=[\\\"SharpeRatio\\\", \\\"Returns\\\", \\\"Volatility\\\"] + stockNames)\";\n",
       "            var nbb_cells = Jupyter.notebook.get_cells();\n",
       "            for (var i = 0; i < nbb_cells.length; ++i) {\n",
       "                if (nbb_cells[i].input_prompt_number == nbb_cell_id) {\n",
       "                    nbb_cells[i].set_text(nbb_formatted_code);\n",
       "                    break;\n",
       "                }\n",
       "            }\n",
       "        }, 500);\n",
       "        "
      ],
      "text/plain": [
       "<IPython.core.display.Javascript object>"
      ]
     },
     "metadata": {},
     "output_type": "display_data"
    }
   ],
   "source": [
    "# Get top 10 portfolio with highest sharpe\n",
    "sortedIndices = np.argsort(simSharpes)[-10:]\n",
    "\n",
    "results = []def randomWeight(length):\n",
    "    w = np.random.random(length)\n",
    "    w /= np.sum(w)p.portfolioPerformance(currentWeight)\n",
    "\n",
    "    return w\n",
    "for x in sortedIndices:\n",
    "    results.append(np.insert(simWeights[x], 0, [simSharpes[x], simRets[x], simVols[x]]))\n",
    "pd.DataFrame(results, columns=[\"SharpeRatio\", \"Returns\", \"Volatility\"] + stockNames)"
   ]
  },
  {
   "cell_type": "markdown",
   "metadata": {},
   "source": [
    "## Next Step\n",
    "\n",
    "- Timeseries K-fold validation when generating weights\n",
    "    - Monte carlo on K-1 segments of data\n",
    "    - Test result on 1 segment of data\n",
    "- Genetics algorithm\n",
    "- Add backtest capabilities\n",
    "    - Report over the entire period\n",
    "    - Custom period\n",
    "\n",
    "## Even More Advanced Shits\n",
    "\n",
    "- Selective optimisation for time period (ie interest rate hike, financial crisis, etc)"
   ]
  },
  {
   "cell_type": "code",
   "execution_count": null,
   "metadata": {},
   "outputs": [],
   "source": []
  }
 ],
 "metadata": {
  "kernelspec": {
   "display_name": "Python 3",
   "language": "python",
   "name": "python3"
  },
  "language_info": {
   "codemirror_mode": {
    "name": "ipython",
    "version": 3
   },
   "file_extension": ".py",
   "mimetype": "text/x-python",
   "name": "python",
   "nbconvert_exporter": "python",
   "pygments_lexer": "ipython3",
   "version": "3.7.3"
  }
 },
 "nbformat": 4,
 "nbformat_minor": 2
}
