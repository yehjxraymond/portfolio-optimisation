{
 "cells": [
  {
   "cell_type": "code",
   "execution_count": 65,
   "metadata": {},
   "outputs": [
    {
     "data": {
      "text/plain": [
       "<module 'model.Portfolio' from '/home/raymond/Desktop/quant/model/Portfolio.py'>"
      ]
     },
     "execution_count": 65,
     "metadata": {},
     "output_type": "execute_result"
    },
    {
     "data": {
      "application/javascript": [
       "\n",
       "        setTimeout(function() {\n",
       "            var nbb_cell_id = 65;\n",
       "            var nbb_formatted_code = \"import importlib\\nimport model.Portfolio as Portfolio\\n\\nimportlib.reload(Portfolio)\";\n",
       "            var nbb_cells = Jupyter.notebook.get_cells();\n",
       "            for (var i = 0; i < nbb_cells.length; ++i) {\n",
       "                if (nbb_cells[i].input_prompt_number == nbb_cell_id) {\n",
       "                    nbb_cells[i].set_text(nbb_formatted_code);\n",
       "                    break;\n",
       "                }\n",
       "            }\n",
       "        }, 500);\n",
       "        "
      ],
      "text/plain": [
       "<IPython.core.display.Javascript object>"
      ]
     },
     "metadata": {},
     "output_type": "display_data"
    }
   ],
   "source": [
    "import importlib\n",
    "import model.Portfolio as Portfolio\n",
    "\n",
    "importlib.reload(Portfolio)"
   ]
  },
  {
   "cell_type": "code",
   "execution_count": 92,
   "metadata": {},
   "outputs": [
    {
     "data": {
      "application/javascript": [
       "\n",
       "        setTimeout(function() {\n",
       "            var nbb_cell_id = 92;\n",
       "            var nbb_formatted_code = \"names = [\\\"VUSA\\\", \\\"A35\\\", \\\"S59\\\", \\\"VUSD\\\", \\\"BAB\\\", \\\"IWDA\\\", \\\"Z74\\\", \\\"ES3\\\", \\\"VWRD\\\"]\\np = Portfolio.Portfolio()\\n\\n# Add all assets\\nfor name in names:\\n    p.addAsset(f\\\"data/{name}.csv\\\", name)\\n\\n# Convert non SGD assets to SGD\\np.addExchangeRate(\\\"data/forex/SGDEUR.csv\\\", \\\"EUR\\\", True)\\np.addExchangeRate(\\\"data/forex/USDSGD.csv\\\", \\\"USD\\\", False)\\np.exchangeAdjustment(0, \\\"EUR\\\")\\np.exchangeAdjustment(3, \\\"USD\\\")\\np.exchangeAdjustment(4, \\\"USD\\\")\\np.exchangeAdjustment(5, \\\"USD\\\")\\np.exchangeAdjustment(8, \\\"USD\\\")\";\n",
       "            var nbb_cells = Jupyter.notebook.get_cells();\n",
       "            for (var i = 0; i < nbb_cells.length; ++i) {\n",
       "                if (nbb_cells[i].input_prompt_number == nbb_cell_id) {\n",
       "                    nbb_cells[i].set_text(nbb_formatted_code);\n",
       "                    break;\n",
       "                }\n",
       "            }\n",
       "        }, 500);\n",
       "        "
      ],
      "text/plain": [
       "<IPython.core.display.Javascript object>"
      ]
     },
     "metadata": {},
     "output_type": "display_data"
    }
   ],
   "source": [
    "names = [\"VUSA\", \"A35\", \"S59\", \"VUSD\", \"BAB\", \"IWDA\", \"Z74\", \"ES3\", \"VWRD\"]\n",
    "p = Portfolio.Portfolio()\n",
    "\n",
    "# Add all assets\n",
    "for name in names:\n",
    "    p.addAsset(f\"data/{name}.csv\", name)\n",
    "\n",
    "# Convert non SGD assets to SGD\n",
    "p.addExchangeRate(\"data/forex/SGDEUR.csv\", \"EUR\", True)\n",
    "p.addExchangeRate(\"data/forex/USDSGD.csv\", \"USD\", False)\n",
    "p.exchangeAdjustment(0, \"EUR\")\n",
    "p.exchangeAdjustment(3, \"USD\")\n",
    "p.exchangeAdjustment(4, \"USD\")\n",
    "p.exchangeAdjustment(5, \"USD\")\n",
    "p.exchangeAdjustment(8, \"USD\")"
   ]
  },
  {
   "cell_type": "code",
   "execution_count": 93,
   "metadata": {},
   "outputs": [
    {
     "data": {
      "text/plain": [
       "{'returns': 0.046602380697228225,\n",
       " 'variance': 0.004724437320510276,\n",
       " 'sharpe': 9.864112387503281}"
      ]
     },
     "execution_count": 93,
     "metadata": {},
     "output_type": "execute_result"
    },
    {
     "data": {
      "application/javascript": [
       "\n",
       "        setTimeout(function() {\n",
       "            var nbb_cell_id = 93;\n",
       "            var nbb_formatted_code = \"currentWeight = [\\n    0.08992020522,\\n    0.2744348384,\\n    0.03070927321,\\n    0.01896821775,\\n    0.06166520726,\\n    0.06204753154,\\n    0.02053451402,\\n    0.3393806347,\\n    0.102339578,\\n]\\n\\np.portfolioPerformance(currentWeight)\\n\\n# Sharpe Ratio: 0.9192931634423893\\n# Returns: 0.024426103239657028\\n# Volatility: 0.004814680904492993\\n\\n# With Exchange\\n# {'returns': 0.046602380697228225,\\n#  'variance': 0.004724437320510276,\\n#  'sharpe': 9.864112387503281}\\n\\n# Without Exchange\\n# {'returns': 0.04435666151352394,\\n#  'variance': 0.0048942609865242105,\\n#  'sharpe': 9.062994727019042}\";\n",
       "            var nbb_cells = Jupyter.notebook.get_cells();\n",
       "            for (var i = 0; i < nbb_cells.length; ++i) {\n",
       "                if (nbb_cells[i].input_prompt_number == nbb_cell_id) {\n",
       "                    nbb_cells[i].set_text(nbb_formatted_code);\n",
       "                    break;\n",
       "                }\n",
       "            }\n",
       "        }, 500);\n",
       "        "
      ],
      "text/plain": [
       "<IPython.core.display.Javascript object>"
      ]
     },
     "metadata": {},
     "output_type": "display_data"
    }
   ],
   "source": [
    "currentWeight = [\n",
    "    0.08992020522,\n",
    "    0.2744348384,\n",
    "    0.03070927321,\n",
    "    0.01896821775,\n",
    "    0.06166520726,\n",
    "    0.06204753154,\n",
    "    0.02053451402,\n",
    "    0.3393806347,\n",
    "    0.102339578,\n",
    "]\n",
    "\n",
    "p.portfolioPerformance(currentWeight)\n",
    "\n",
    "# Sharpe Ratio: 0.9192931634423893\n",
    "# Returns: 0.024426103239657028\n",
    "# Volatility: 0.004814680904492993\n",
    "\n",
    "# With Exchange\n",
    "# {'returns': 0.046602380697228225,\n",
    "#  'variance': 0.004724437320510276,\n",
    "#  'sharpe': 9.864112387503281}\n",
    "\n",
    "# Without Exchange\n",
    "# {'returns': 0.04435666151352394,\n",
    "#  'variance': 0.0048942609865242105,\n",
    "#  'sharpe': 9.062994727019042}"
   ]
  },
  {
   "cell_type": "code",
   "execution_count": 95,
   "metadata": {},
   "outputs": [
    {
     "data": {
      "application/javascript": [
       "\n",
       "        setTimeout(function() {\n",
       "            var nbb_cell_id = 95;\n",
       "            var nbb_formatted_code = \"def randomWeight(length):\\n    w = np.random.random(length)\\n    w /= np.sum(w)\\n    return w\";\n",
       "            var nbb_cells = Jupyter.notebook.get_cells();\n",
       "            for (var i = 0; i < nbb_cells.length; ++i) {\n",
       "                if (nbb_cells[i].input_prompt_number == nbb_cell_id) {\n",
       "                    nbb_cells[i].set_text(nbb_formatted_code);\n",
       "                    break;\n",
       "                }\n",
       "            }\n",
       "        }, 500);\n",
       "        "
      ],
      "text/plain": [
       "<IPython.core.display.Javascript object>"
      ]
     },
     "metadata": {},
     "output_type": "display_data"
    }
   ],
   "source": [
    "def randomWeight(length):\n",
    "    w = np.random.random(length)\n",
    "    w /= np.sum(w)p.portfolioPerformance(currentWeight)\n",
    "\n",
    "    return w"
   ]
  },
  {
   "cell_type": "code",
   "execution_count": 102,
   "metadata": {},
   "outputs": [
    {
     "name": "stdout",
     "output_type": "stream",
     "text": [
      "CPU times: user 40.4 s, sys: 0 ns, total: 40.4 s\n",
      "Wall time: 40.4 s\n"
     ]
    },
    {
     "data": {
      "application/javascript": [
       "\n",
       "        setTimeout(function() {\n",
       "            var nbb_cell_id = 102;\n",
       "            var nbb_formatted_code = \"%%time\\n\\nnoSimulations = 10000\\nrf = 0.02\\nsimWeights = []\\nsimRets = []\\nsimVols = []\\nsimSharpes = []\\n\\nfor i in range(noSimulations):\\n    weights = randomWeight(len(names))\\n    perf = p.portfolioPerformance(weights)\\n\\n    simWeights.append(weights)\\n    simRets.append(perf[\\\"returns\\\"])\\n    simVols.append(perf[\\\"variance\\\"])\\n    simSharpes.append(perf[\\\"sharpe\\\"])\";\n",
       "            var nbb_cells = Jupyter.notebook.get_cells();\n",
       "            for (var i = 0; i < nbb_cells.length; ++i) {\n",
       "                if (nbb_cells[i].input_prompt_number == nbb_cell_id) {\n",
       "                    nbb_cells[i].set_text(nbb_formatted_code);\n",
       "                    break;\n",
       "                }\n",
       "            }\n",
       "        }, 500);\n",
       "        "
      ],
      "text/plain": [
       "<IPython.core.display.Javascript object>"
      ]
     },
     "metadata": {},
     "output_type": "display_data"
    }
   ],
   "source": [
    "%%time\n",
    "\n",
    "noSimulations = 10000\n",
    "rf = 0.02\n",
    "simWeights = []\n",
    "simRets = []\n",
    "simVols = []\n",
    "simSharpes = []\n",
    "\n",
    "for i in range(noSimulations):\n",
    "    weights = randomWeight(len(names))\n",
    "    perf = p.portfolioPerformance(weights)\n",
    "\n",
    "    simWeights.append(weights)\n",
    "    simRets.append(perf[\"returns\"])\n",
    "    simVols.append(perf[\"variance\"])\n",
    "    simSharpes.append(perf[\"sharpe\"])"
   ]
  },
  {
   "cell_type": "code",
   "execution_count": 103,
   "metadata": {},
   "outputs": [
    {
     "data": {
      "image/png": "[encoded data removed]",
      "text/plain": [
       "<Figure size 576x288 with 2 Axes>"
      ]
     },
     "metadata": {
      "needs_background": "light"
     },
     "output_type": "display_data"
    },
    {
     "data": {
      "application/javascript": [
       "\n",
       "        setTimeout(function() {\n",
       "            var nbb_cell_id = 103;\n",
       "            var nbb_formatted_code = \"plt.figure(figsize=(8, 4))\\nplt.scatter(simVols, simRets, c=simSharpes, marker=\\\"o\\\")\\nplt.grid(True)\\nplt.xlabel(\\\"Expected volatility\\\")\\nplt.ylabel(\\\"Expected return\\\")\\nplt.colorbar(label=\\\"Sharpe ratio\\\")\\nplt.show()\";\n",
       "            var nbb_cells = Jupyter.notebook.get_cells();\n",
       "            for (var i = 0; i < nbb_cells.length; ++i) {\n",
       "                if (nbb_cells[i].input_prompt_number == nbb_cell_id) {\n",
       "                    nbb_cells[i].set_text(nbb_formatted_code);\n",
       "                    break;\n",
       "                }\n",
       "            }\n",
       "        }, 500);\n",
       "        "
      ],
      "text/plain": [
       "<IPython.core.display.Javascript object>"
      ]
     },
     "metadata": {},
     "output_type": "display_data"
    }
   ],
   "source": [
    "plt.figure(figsize=(8, 4))\n",
    "plt.scatter(simVols, simRets, c=simSharpes, marker=\"o\")\n",
    "plt.grid(True)\n",
    "plt.xlabel(\"Expected volatility\")\n",
    "plt.ylabel(\"Expected return\")\n",
    "plt.colorbar(label=\"Sharpe ratio\")\n",
    "plt.show()"
   ]
  },
  {
   "cell_type": "code",
   "execution_count": 104,
   "metadata": {},
   "outputs": [
    {
     "data": {
      "text/html": [
       "<div>\n",
       "<style scoped>\n",
       "    .dataframe tbody tr th:only-of-type {\n",
       "        vertical-align: middle;\n",
       "    }\n",
       "\n",
       "    .dataframe tbody tr th {\n",
       "        vertical-align: top;\n",
       "    }\n",
       "\n",
       "    .dataframe thead th {\n",
       "        text-align: right;\n",
       "    }\n",
       "</style>\n",
       "<table border=\"1\" class=\"dataframe\">\n",
       "  <thead>\n",
       "    <tr style=\"text-align: right;\">\n",
       "      <th></th>\n",
       "      <th>SharpeRatio</th>\n",
       "      <th>Returns</th>\n",
       "      <th>Volatility</th>\n",
       "      <th>VUSA</th>\n",
       "      <th>A35</th>\n",
       "      <th>S59</th>\n",
       "      <th>VUSD</th>\n",
       "      <th>BAB</th>\n",
       "      <th>IWDA</th>\n",
       "      <th>Z74</th>\n",
       "      <th>ES3</th>\n",
       "      <th>VWRD</th>\n",
       "    </tr>\n",
       "  </thead>\n",
       "  <tbody>\n",
       "    <tr>\n",
       "      <th>0</th>\n",
       "      <td>15.435338</td>\n",
       "      <td>0.064455</td>\n",
       "      <td>0.004176</td>\n",
       "      <td>0.112581</td>\n",
       "      <td>0.194781</td>\n",
       "      <td>0.029401</td>\n",
       "      <td>0.047220</td>\n",
       "      <td>0.228883</td>\n",
       "      <td>0.168001</td>\n",
       "      <td>0.054494</td>\n",
       "      <td>0.130669</td>\n",
       "      <td>0.033972</td>\n",
       "    </tr>\n",
       "    <tr>\n",
       "      <th>1</th>\n",
       "      <td>15.534383</td>\n",
       "      <td>0.068723</td>\n",
       "      <td>0.004424</td>\n",
       "      <td>0.170687</td>\n",
       "      <td>0.148176</td>\n",
       "      <td>0.060925</td>\n",
       "      <td>0.159413</td>\n",
       "      <td>0.309559</td>\n",
       "      <td>0.012244</td>\n",
       "      <td>0.053757</td>\n",
       "      <td>0.025386</td>\n",
       "      <td>0.059852</td>\n",
       "    </tr>\n",
       "    <tr>\n",
       "      <th>2</th>\n",
       "      <td>15.604636</td>\n",
       "      <td>0.062358</td>\n",
       "      <td>0.003996</td>\n",
       "      <td>0.177439</td>\n",
       "      <td>0.188734</td>\n",
       "      <td>0.001499</td>\n",
       "      <td>0.093193</td>\n",
       "      <td>0.226969</td>\n",
       "      <td>0.029454</td>\n",
       "      <td>0.025715</td>\n",
       "      <td>0.252826</td>\n",
       "      <td>0.004169</td>\n",
       "    </tr>\n",
       "    <tr>\n",
       "      <th>3</th>\n",
       "      <td>15.789378</td>\n",
       "      <td>0.069499</td>\n",
       "      <td>0.004402</td>\n",
       "      <td>0.228748</td>\n",
       "      <td>0.242307</td>\n",
       "      <td>0.000701</td>\n",
       "      <td>0.056478</td>\n",
       "      <td>0.269518</td>\n",
       "      <td>0.002800</td>\n",
       "      <td>0.007484</td>\n",
       "      <td>0.059306</td>\n",
       "      <td>0.132659</td>\n",
       "    </tr>\n",
       "    <tr>\n",
       "      <th>4</th>\n",
       "      <td>15.852745</td>\n",
       "      <td>0.061495</td>\n",
       "      <td>0.003879</td>\n",
       "      <td>0.059979</td>\n",
       "      <td>0.139105</td>\n",
       "      <td>0.032275</td>\n",
       "      <td>0.083884</td>\n",
       "      <td>0.296281</td>\n",
       "      <td>0.072690</td>\n",
       "      <td>0.019211</td>\n",
       "      <td>0.217123</td>\n",
       "      <td>0.079452</td>\n",
       "    </tr>\n",
       "    <tr>\n",
       "      <th>5</th>\n",
       "      <td>16.031860</td>\n",
       "      <td>0.063555</td>\n",
       "      <td>0.003964</td>\n",
       "      <td>0.054006</td>\n",
       "      <td>0.264406</td>\n",
       "      <td>0.028904</td>\n",
       "      <td>0.183566</td>\n",
       "      <td>0.270938</td>\n",
       "      <td>0.015658</td>\n",
       "      <td>0.072454</td>\n",
       "      <td>0.030269</td>\n",
       "      <td>0.079800</td>\n",
       "    </tr>\n",
       "    <tr>\n",
       "      <th>6</th>\n",
       "      <td>16.083607</td>\n",
       "      <td>0.058201</td>\n",
       "      <td>0.003619</td>\n",
       "      <td>0.007798</td>\n",
       "      <td>0.213219</td>\n",
       "      <td>0.060554</td>\n",
       "      <td>0.042889</td>\n",
       "      <td>0.332144</td>\n",
       "      <td>0.163591</td>\n",
       "      <td>0.099388</td>\n",
       "      <td>0.009459</td>\n",
       "      <td>0.070958</td>\n",
       "    </tr>\n",
       "    <tr>\n",
       "      <th>7</th>\n",
       "      <td>16.488021</td>\n",
       "      <td>0.064183</td>\n",
       "      <td>0.003893</td>\n",
       "      <td>0.045587</td>\n",
       "      <td>0.313483</td>\n",
       "      <td>0.003276</td>\n",
       "      <td>0.113669</td>\n",
       "      <td>0.271430</td>\n",
       "      <td>0.096990</td>\n",
       "      <td>0.061476</td>\n",
       "      <td>0.026056</td>\n",
       "      <td>0.068035</td>\n",
       "    </tr>\n",
       "    <tr>\n",
       "      <th>8</th>\n",
       "      <td>16.618602</td>\n",
       "      <td>0.071257</td>\n",
       "      <td>0.004288</td>\n",
       "      <td>0.252367</td>\n",
       "      <td>0.063059</td>\n",
       "      <td>0.002093</td>\n",
       "      <td>0.042523</td>\n",
       "      <td>0.369000</td>\n",
       "      <td>0.024559</td>\n",
       "      <td>0.097586</td>\n",
       "      <td>0.119000</td>\n",
       "      <td>0.029813</td>\n",
       "    </tr>\n",
       "    <tr>\n",
       "      <th>9</th>\n",
       "      <td>17.155166</td>\n",
       "      <td>0.062800</td>\n",
       "      <td>0.003661</td>\n",
       "      <td>0.227648</td>\n",
       "      <td>0.257956</td>\n",
       "      <td>0.031952</td>\n",
       "      <td>0.016675</td>\n",
       "      <td>0.275294</td>\n",
       "      <td>0.080281</td>\n",
       "      <td>0.036320</td>\n",
       "      <td>0.038860</td>\n",
       "      <td>0.035015</td>\n",
       "    </tr>\n",
       "  </tbody>\n",
       "</table>\n",
       "</div>"
      ],
      "text/plain": [
       "   SharpeRatio   Returns  Volatility      VUSA       A35       S59      VUSD  \\\n",
       "0    15.435338  0.064455    0.004176  0.112581  0.194781  0.029401  0.047220   \n",
       "1    15.534383  0.068723    0.004424  0.170687  0.148176  0.060925  0.159413   \n",
       "2    15.604636  0.062358    0.003996  0.177439  0.188734  0.001499  0.093193   \n",
       "3    15.789378  0.069499    0.004402  0.228748  0.242307  0.000701  0.056478   \n",
       "4    15.852745  0.061495    0.003879  0.059979  0.139105  0.032275  0.083884   \n",
       "5    16.031860  0.063555    0.003964  0.054006  0.264406  0.028904  0.183566   \n",
       "6    16.083607  0.058201    0.003619  0.007798  0.213219  0.060554  0.042889   \n",
       "7    16.488021  0.064183    0.003893  0.045587  0.313483  0.003276  0.113669   \n",
       "8    16.618602  0.071257    0.004288  0.252367  0.063059  0.002093  0.042523   \n",
       "9    17.155166  0.062800    0.003661  0.227648  0.257956  0.031952  0.016675   \n",
       "\n",
       "        BAB      IWDA       Z74       ES3      VWRD  \n",
       "0  0.228883  0.168001  0.054494  0.130669  0.033972  \n",
       "1  0.309559  0.012244  0.053757  0.025386  0.059852  \n",
       "2  0.226969  0.029454  0.025715  0.252826  0.004169  \n",
       "3  0.269518  0.002800  0.007484  0.059306  0.132659  \n",
       "4  0.296281  0.072690  0.019211  0.217123  0.079452  \n",
       "5  0.270938  0.015658  0.072454  0.030269  0.079800  \n",
       "6  0.332144  0.163591  0.099388  0.009459  0.070958  \n",
       "7  0.271430  0.096990  0.061476  0.026056  0.068035  \n",
       "8  0.369000  0.024559  0.097586  0.119000  0.029813  \n",
       "9  0.275294  0.080281  0.036320  0.038860  0.035015  "
      ]
     },
     "execution_count": 104,
     "metadata": {},
     "output_type": "execute_result"
    },
    {
     "data": {
      "application/javascript": [
       "\n",
       "        setTimeout(function() {\n",
       "            var nbb_cell_id = 104;\n",
       "            var nbb_formatted_code = \"# Get top 10 portfolio with highest sharpe\\nsortedIndices = np.argsort(simSharpes)[-10:]\\n\\nresults = []\\nfor x in sortedIndices:\\n    results.append(np.insert(simWeights[x], 0, [simSharpes[x], simRets[x], simVols[x]]))\\npd.DataFrame(results, columns=[\\\"SharpeRatio\\\", \\\"Returns\\\", \\\"Volatility\\\"] + stockNames)\";\n",
       "            var nbb_cells = Jupyter.notebook.get_cells();\n",
       "            for (var i = 0; i < nbb_cells.length; ++i) {\n",
       "                if (nbb_cells[i].input_prompt_number == nbb_cell_id) {\n",
       "                    nbb_cells[i].set_text(nbb_formatted_code);\n",
       "                    break;\n",
       "                }\n",
       "            }\n",
       "        }, 500);\n",
       "        "
      ],
      "text/plain": [
       "<IPython.core.display.Javascript object>"
      ]
     },
     "metadata": {},
     "output_type": "display_data"
    }
   ],
   "source": [
    "# Get top 10 portfolio with highest sharpe\n",
    "sortedIndices = np.argsort(simSharpes)[-10:]\n",
    "\n",
    "results = []\n",
    "for x in sortedIndices:\n",
    "    results.append(np.insert(simWeights[x], 0, [simSharpes[x], simRets[x], simVols[x]]))\n",
    "pd.DataFrame(results, columns=[\"SharpeRatio\", \"Returns\", \"Volatility\"] + stockNames)"
   ]
  },
  {
   "cell_type": "code",
   "execution_count": null,
   "metadata": {},
   "outputs": [],
   "source": []
  }
 ],
 "metadata": {
  "kernelspec": {
   "display_name": "Python 3",
   "language": "python",
   "name": "python3"
  },
  "language_info": {
   "codemirror_mode": {
    "name": "ipython",
    "version": 3
   },
   "file_extension": ".py",
   "mimetype": "text/x-python",
   "name": "python",
   "nbconvert_exporter": "python",
   "pygments_lexer": "ipython3",
   "version": "3.7.3"
  }
 },
 "nbformat": 4,
 "nbformat_minor": 2
}
