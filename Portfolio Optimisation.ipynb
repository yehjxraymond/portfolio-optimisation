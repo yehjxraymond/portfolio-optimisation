{
 "cells": [
  {
   "cell_type": "code",
   "execution_count": 1,
   "metadata": {},
   "outputs": [],
   "source": [
    "import numpy as np\n",
    "import matplotlib.pyplot as plt\n",
    "import pandas as pd\n",
    "import seaborn as sns"
   ]
  },
  {
   "cell_type": "code",
   "execution_count": 2,
   "metadata": {},
   "outputs": [
    {
     "data": {
      "application/javascript": [
       "\n",
       "        setTimeout(function() {\n",
       "            var nbb_cell_id = 2;\n",
       "            var nbb_formatted_code = \"np.random.seed(1000)\\n%matplotlib inline\\n%load_ext nb_black\";\n",
       "            var nbb_cells = Jupyter.notebook.get_cells();\n",
       "            for (var i = 0; i < nbb_cells.length; ++i) {\n",
       "                if (nbb_cells[i].input_prompt_number == nbb_cell_id) {\n",
       "                    nbb_cells[i].set_text(nbb_formatted_code);\n",
       "                    break;\n",
       "                }\n",
       "            }\n",
       "        }, 500);\n",
       "        "
      ],
      "text/plain": [
       "<IPython.core.display.Javascript object>"
      ]
     },
     "metadata": {},
     "output_type": "display_data"
    }
   ],
   "source": [
    "np.random.seed(1000)\n",
    "%matplotlib inline\n",
    "%load_ext nb_black"
   ]
  },
  {
   "cell_type": "code",
   "execution_count": 3,
   "metadata": {},
   "outputs": [
    {
     "data": {
      "application/javascript": [
       "\n",
       "        setTimeout(function() {\n",
       "            var nbb_cell_id = 3;\n",
       "            var nbb_formatted_code = \"# Given a stock, remove data of data of all non-trading day\\ndef removeNonTradingDays(df):\\n    return df[df.index.dayofweek < 5]\\n\\n\\n# Given a list of stocks, find the common interval (latestStart, earliestEnd) for all the stocks\\ndef commonInterval(tickers):\\n    latestStart = None\\n    earliestEnd = None\\n    for data in tickers:\\n        if latestStart == None or data.index[0] > latestStart:\\n            latestStart = data.index[0]\\n        if earliestEnd == None or data.index[-1] < earliestEnd:\\n            earliestEnd = data.index[-1]\\n    return (latestStart, earliestEnd)\";\n",
       "            var nbb_cells = Jupyter.notebook.get_cells();\n",
       "            for (var i = 0; i < nbb_cells.length; ++i) {\n",
       "                if (nbb_cells[i].input_prompt_number == nbb_cell_id) {\n",
       "                    nbb_cells[i].set_text(nbb_formatted_code);\n",
       "                    break;\n",
       "                }\n",
       "            }\n",
       "        }, 500);\n",
       "        "
      ],
      "text/plain": [
       "<IPython.core.display.Javascript object>"
      ]
     },
     "metadata": {},
     "output_type": "display_data"
    }
   ],
   "source": [
    "# Given a stock, remove data of data of all non-trading day\n",
    "def removeNonTradingDays(df):\n",
    "    return df[df.index.dayofweek < 5]\n",
    "\n",
    "\n",
    "# Given a list of stocks, find the common interval (latestStart, earliestEnd) for all the stocks\n",
    "def commonInterval(tickers):\n",
    "    latestStart = None\n",
    "    earliestEnd = None\n",
    "    for data in tickers:\n",
    "        if latestStart == None or data.index[0] > latestStart:\n",
    "            latestStart = data.index[0]\n",
    "        if earliestEnd == None or data.index[-1] < earliestEnd:\n",
    "            earliestEnd = data.index[-1]\n",
    "    return (latestStart, earliestEnd)"
   ]
  },
  {
   "cell_type": "code",
   "execution_count": 4,
   "metadata": {},
   "outputs": [
    {
     "data": {
      "text/plain": [
       "(Timestamp('2013-06-05 00:00:00'), Timestamp('2019-06-13 00:00:00'))"
      ]
     },
     "execution_count": 4,
     "metadata": {},
     "output_type": "execute_result"
    },
    {
     "data": {
      "application/javascript": [
       "\n",
       "        setTimeout(function() {\n",
       "            var nbb_cell_id = 4;\n",
       "            var nbb_formatted_code = \"# Load these stocks\\nstockNames = [\\\"VUSA\\\", \\\"A35\\\", \\\"S59\\\", \\\"VUSD\\\", \\\"BAB\\\", \\\"IWDA\\\", \\\"Z74\\\", \\\"ES3\\\", \\\"VWRD\\\"]\\nstocks = list(\\n    map(\\n        lambda x: removeNonTradingDays(\\n            pd.read_csv(f\\\"data/{x}.csv\\\", index_col=\\\"Date\\\", parse_dates=True)\\n        ),\\n        stockNames,\\n    )\\n)\\ncommonInterval(stocks)\";\n",
       "            var nbb_cells = Jupyter.notebook.get_cells();\n",
       "            for (var i = 0; i < nbb_cells.length; ++i) {\n",
       "                if (nbb_cells[i].input_prompt_number == nbb_cell_id) {\n",
       "                    nbb_cells[i].set_text(nbb_formatted_code);\n",
       "                    break;\n",
       "                }\n",
       "            }\n",
       "        }, 500);\n",
       "        "
      ],
      "text/plain": [
       "<IPython.core.display.Javascript object>"
      ]
     },
     "metadata": {},
     "output_type": "display_data"
    }
   ],
   "source": [
    "# Load these stocks\n",
    "stockNames = [\"VUSA\", \"A35\", \"S59\", \"VUSD\", \"BAB\", \"IWDA\", \"Z74\", \"ES3\", \"VWRD\"]\n",
    "stocks = list(\n",
    "    map(\n",
    "        lambda x: removeNonTradingDays(\n",
    "            pd.read_csv(f\"data/{x}.csv\", index_col=\"Date\", parse_dates=True)\n",
    "        ),\n",
    "        stockNames,\n",
    "    )\n",
    ")\n",
    "commonInterval(stocks)"
   ]
  },
  {
   "cell_type": "code",
   "execution_count": 5,
   "metadata": {},
   "outputs": [
    {
     "data": {
      "application/javascript": [
       "\n",
       "        setTimeout(function() {\n",
       "            var nbb_cell_id = 5;\n",
       "            var nbb_formatted_code = \"(start, end) = commonInterval(stocks)\\nstocks[0][start:end]\\ntrimmedStocksClosingPrices = list(map(lambda x: x[start:end].Close, stocks))\\nstocksClosingPrices = pd.concat(trimmedStocksClosingPrices, axis=1, keys=stockNames)\\nstocksClosingPricesForwardFilled = stocksClosingPrices.fillna(method=\\\"ffill\\\")\\nnormalisedClosingPrice = (\\n    stocksClosingPricesForwardFilled / stocksClosingPricesForwardFilled.iloc[0]\\n)\";\n",
       "            var nbb_cells = Jupyter.notebook.get_cells();\n",
       "            for (var i = 0; i < nbb_cells.length; ++i) {\n",
       "                if (nbb_cells[i].input_prompt_number == nbb_cell_id) {\n",
       "                    nbb_cells[i].set_text(nbb_formatted_code);\n",
       "                    break;\n",
       "                }\n",
       "            }\n",
       "        }, 500);\n",
       "        "
      ],
      "text/plain": [
       "<IPython.core.display.Javascript object>"
      ]
     },
     "metadata": {},
     "output_type": "display_data"
    }
   ],
   "source": [
    "(start, end) = commonInterval(stocks)\n",
    "stocks[0][start:end]\n",
    "trimmedStocksClosingPrices = list(map(lambda x: x[start:end].Close, stocks))\n",
    "stocksClosingPrices = pd.concat(trimmedStocksClosingPrices, axis=1, keys=stockNames)\n",
    "stocksClosingPricesForwardFilled = stocksClosingPrices.fillna(method=\"ffill\")\n",
    "normalisedClosingPrice = (\n",
    "    stocksClosingPricesForwardFilled / stocksClosingPricesForwardFilled.iloc[0]\n",
    ")"
   ]
  },
  {
   "cell_type": "code",
   "execution_count": 6,
   "metadata": {},
   "outputs": [
    {
     "data": {
      "image/png": "[encoded data removed]",
      "text/plain": [
       "<Figure size 432x288 with 1 Axes>"
      ]
     },
     "metadata": {
      "needs_background": "light"
     },
     "output_type": "display_data"
    },
    {
     "data": {
      "application/javascript": [
       "\n",
       "        setTimeout(function() {\n",
       "            var nbb_cell_id = 6;\n",
       "            var nbb_formatted_code = \"normalisedClosingPrice.plot()\\nplt.show()\";\n",
       "            var nbb_cells = Jupyter.notebook.get_cells();\n",
       "            for (var i = 0; i < nbb_cells.length; ++i) {\n",
       "                if (nbb_cells[i].input_prompt_number == nbb_cell_id) {\n",
       "                    nbb_cells[i].set_text(nbb_formatted_code);\n",
       "                    break;\n",
       "                }\n",
       "            }\n",
       "        }, 500);\n",
       "        "
      ],
      "text/plain": [
       "<IPython.core.display.Javascript object>"
      ]
     },
     "metadata": {},
     "output_type": "display_data"
    }
   ],
   "source": [
    "normalisedClosingPrice.plot()\n",
    "plt.show()"
   ]
  },
  {
   "cell_type": "code",
   "execution_count": 7,
   "metadata": {},
   "outputs": [
    {
     "data": {
      "text/plain": [
       "VUSA    0.117755\n",
       "A35    -0.003470\n",
       "S59    -0.112654\n",
       "VUSD    0.124928\n",
       "BAB     0.006447\n",
       "IWDA    0.113567\n",
       "Z74    -0.016541\n",
       "ES3    -0.000297\n",
       "VWRD    0.086732\n",
       "dtype: float64"
      ]
     },
     "execution_count": 7,
     "metadata": {},
     "output_type": "execute_result"
    },
    {
     "data": {
      "application/javascript": [
       "\n",
       "        setTimeout(function() {\n",
       "            var nbb_cell_id = 7;\n",
       "            var nbb_formatted_code = \"# Calculate returns of individual assets\\nreturns = np.log(normalisedClosingPrice / normalisedClosingPrice.shift(1))\\nreturns.mean() * 252\";\n",
       "            var nbb_cells = Jupyter.notebook.get_cells();\n",
       "            for (var i = 0; i < nbb_cells.length; ++i) {\n",
       "                if (nbb_cells[i].input_prompt_number == nbb_cell_id) {\n",
       "                    nbb_cells[i].set_text(nbb_formatted_code);\n",
       "                    break;\n",
       "                }\n",
       "            }\n",
       "        }, 500);\n",
       "        "
      ],
      "text/plain": [
       "<IPython.core.display.Javascript object>"
      ]
     },
     "metadata": {},
     "output_type": "display_data"
    }
   ],
   "source": [
    "# Calculate returns of individual assets\n",
    "returns = np.log(normalisedClosingPrice / normalisedClosingPrice.shift(1))\n",
    "returns.mean() * 252"
   ]
  },
  {
   "cell_type": "code",
   "execution_count": 8,
   "metadata": {},
   "outputs": [
    {
     "data": {
      "text/html": [
       "<div>\n",
       "<style scoped>\n",
       "    .dataframe tbody tr th:only-of-type {\n",
       "        vertical-align: middle;\n",
       "    }\n",
       "\n",
       "    .dataframe tbody tr th {\n",
       "        vertical-align: top;\n",
       "    }\n",
       "\n",
       "    .dataframe thead th {\n",
       "        text-align: right;\n",
       "    }\n",
       "</style>\n",
       "<table border=\"1\" class=\"dataframe\">\n",
       "  <thead>\n",
       "    <tr style=\"text-align: right;\">\n",
       "      <th></th>\n",
       "      <th>VUSA</th>\n",
       "      <th>A35</th>\n",
       "      <th>S59</th>\n",
       "      <th>VUSD</th>\n",
       "      <th>BAB</th>\n",
       "      <th>IWDA</th>\n",
       "      <th>Z74</th>\n",
       "      <th>ES3</th>\n",
       "      <th>VWRD</th>\n",
       "    </tr>\n",
       "  </thead>\n",
       "  <tbody>\n",
       "    <tr>\n",
       "      <th>VUSA</th>\n",
       "      <td>0.022910</td>\n",
       "      <td>-0.000163</td>\n",
       "      <td>0.001959</td>\n",
       "      <td>0.017289</td>\n",
       "      <td>-0.001411</td>\n",
       "      <td>0.015669</td>\n",
       "      <td>0.004886</td>\n",
       "      <td>0.006045</td>\n",
       "      <td>0.015545</td>\n",
       "    </tr>\n",
       "    <tr>\n",
       "      <th>A35</th>\n",
       "      <td>-0.000163</td>\n",
       "      <td>0.008888</td>\n",
       "      <td>-0.000044</td>\n",
       "      <td>-0.000119</td>\n",
       "      <td>0.000287</td>\n",
       "      <td>-0.000010</td>\n",
       "      <td>0.000010</td>\n",
       "      <td>-0.000355</td>\n",
       "      <td>0.000096</td>\n",
       "    </tr>\n",
       "    <tr>\n",
       "      <th>S59</th>\n",
       "      <td>0.001959</td>\n",
       "      <td>-0.000044</td>\n",
       "      <td>0.024308</td>\n",
       "      <td>0.001098</td>\n",
       "      <td>-0.000249</td>\n",
       "      <td>0.001397</td>\n",
       "      <td>0.004381</td>\n",
       "      <td>0.004504</td>\n",
       "      <td>0.001418</td>\n",
       "    </tr>\n",
       "    <tr>\n",
       "      <th>VUSD</th>\n",
       "      <td>0.017289</td>\n",
       "      <td>-0.000119</td>\n",
       "      <td>0.001098</td>\n",
       "      <td>0.020134</td>\n",
       "      <td>-0.000837</td>\n",
       "      <td>0.018173</td>\n",
       "      <td>0.004220</td>\n",
       "      <td>0.004480</td>\n",
       "      <td>0.018043</td>\n",
       "    </tr>\n",
       "    <tr>\n",
       "      <th>BAB</th>\n",
       "      <td>-0.001411</td>\n",
       "      <td>0.000287</td>\n",
       "      <td>-0.000249</td>\n",
       "      <td>-0.000837</td>\n",
       "      <td>0.003878</td>\n",
       "      <td>-0.000934</td>\n",
       "      <td>-0.000148</td>\n",
       "      <td>-0.000407</td>\n",
       "      <td>-0.000892</td>\n",
       "    </tr>\n",
       "    <tr>\n",
       "      <th>IWDA</th>\n",
       "      <td>0.015669</td>\n",
       "      <td>-0.000010</td>\n",
       "      <td>0.001397</td>\n",
       "      <td>0.018173</td>\n",
       "      <td>-0.000934</td>\n",
       "      <td>0.017489</td>\n",
       "      <td>0.004758</td>\n",
       "      <td>0.005106</td>\n",
       "      <td>0.017408</td>\n",
       "    </tr>\n",
       "    <tr>\n",
       "      <th>Z74</th>\n",
       "      <td>0.004886</td>\n",
       "      <td>0.000010</td>\n",
       "      <td>0.004381</td>\n",
       "      <td>0.004220</td>\n",
       "      <td>-0.000148</td>\n",
       "      <td>0.004758</td>\n",
       "      <td>0.025908</td>\n",
       "      <td>0.010228</td>\n",
       "      <td>0.004988</td>\n",
       "    </tr>\n",
       "    <tr>\n",
       "      <th>ES3</th>\n",
       "      <td>0.006045</td>\n",
       "      <td>-0.000355</td>\n",
       "      <td>0.004504</td>\n",
       "      <td>0.004480</td>\n",
       "      <td>-0.000407</td>\n",
       "      <td>0.005106</td>\n",
       "      <td>0.010228</td>\n",
       "      <td>0.013702</td>\n",
       "      <td>0.005339</td>\n",
       "    </tr>\n",
       "    <tr>\n",
       "      <th>VWRD</th>\n",
       "      <td>0.015545</td>\n",
       "      <td>0.000096</td>\n",
       "      <td>0.001418</td>\n",
       "      <td>0.018043</td>\n",
       "      <td>-0.000892</td>\n",
       "      <td>0.017408</td>\n",
       "      <td>0.004988</td>\n",
       "      <td>0.005339</td>\n",
       "      <td>0.017674</td>\n",
       "    </tr>\n",
       "  </tbody>\n",
       "</table>\n",
       "</div>"
      ],
      "text/plain": [
       "          VUSA       A35       S59      VUSD       BAB      IWDA       Z74  \\\n",
       "VUSA  0.022910 -0.000163  0.001959  0.017289 -0.001411  0.015669  0.004886   \n",
       "A35  -0.000163  0.008888 -0.000044 -0.000119  0.000287 -0.000010  0.000010   \n",
       "S59   0.001959 -0.000044  0.024308  0.001098 -0.000249  0.001397  0.004381   \n",
       "VUSD  0.017289 -0.000119  0.001098  0.020134 -0.000837  0.018173  0.004220   \n",
       "BAB  -0.001411  0.000287 -0.000249 -0.000837  0.003878 -0.000934 -0.000148   \n",
       "IWDA  0.015669 -0.000010  0.001397  0.018173 -0.000934  0.017489  0.004758   \n",
       "Z74   0.004886  0.000010  0.004381  0.004220 -0.000148  0.004758  0.025908   \n",
       "ES3   0.006045 -0.000355  0.004504  0.004480 -0.000407  0.005106  0.010228   \n",
       "VWRD  0.015545  0.000096  0.001418  0.018043 -0.000892  0.017408  0.004988   \n",
       "\n",
       "           ES3      VWRD  \n",
       "VUSA  0.006045  0.015545  \n",
       "A35  -0.000355  0.000096  \n",
       "S59   0.004504  0.001418  \n",
       "VUSD  0.004480  0.018043  \n",
       "BAB  -0.000407 -0.000892  \n",
       "IWDA  0.005106  0.017408  \n",
       "Z74   0.010228  0.004988  \n",
       "ES3   0.013702  0.005339  \n",
       "VWRD  0.005339  0.017674  "
      ]
     },
     "execution_count": 8,
     "metadata": {},
     "output_type": "execute_result"
    },
    {
     "data": {
      "application/javascript": [
       "\n",
       "        setTimeout(function() {\n",
       "            var nbb_cell_id = 8;\n",
       "            var nbb_formatted_code = \"# Calculate covariance of each asset to another based on trading days\\nretCov = returns.cov() * 252\\nretCov\";\n",
       "            var nbb_cells = Jupyter.notebook.get_cells();\n",
       "            for (var i = 0; i < nbb_cells.length; ++i) {\n",
       "                if (nbb_cells[i].input_prompt_number == nbb_cell_id) {\n",
       "                    nbb_cells[i].set_text(nbb_formatted_code);\n",
       "                    break;\n",
       "                }\n",
       "            }\n",
       "        }, 500);\n",
       "        "
      ],
      "text/plain": [
       "<IPython.core.display.Javascript object>"
      ]
     },
     "metadata": {},
     "output_type": "display_data"
    }
   ],
   "source": [
    "# Calculate covariance of each asset to another based on trading days\n",
    "retCov = returns.cov() * 252\n",
    "retCov"
   ]
  },
  {
   "cell_type": "code",
   "execution_count": 10,
   "metadata": {},
   "outputs": [
    {
     "data": {
      "image/png": "[encoded data removed]",
      "text/plain": [
       "<Figure size 432x288 with 2 Axes>"
      ]
     },
     "metadata": {
      "needs_background": "light"
     },
     "output_type": "display_data"
    },
    {
     "data": {
      "application/javascript": [
       "\n",
       "        setTimeout(function() {\n",
       "            var nbb_cell_id = 10;\n",
       "            var nbb_formatted_code = \"# retCov[\\\"BTC\\\"][\\\"BTC\\\"] = 0\\nsns.heatmap(retCov)\\nplt.show()\";\n",
       "            var nbb_cells = Jupyter.notebook.get_cells();\n",
       "            for (var i = 0; i < nbb_cells.length; ++i) {\n",
       "                if (nbb_cells[i].input_prompt_number == nbb_cell_id) {\n",
       "                    nbb_cells[i].set_text(nbb_formatted_code);\n",
       "                    break;\n",
       "                }\n",
       "            }\n",
       "        }, 500);\n",
       "        "
      ],
      "text/plain": [
       "<IPython.core.display.Javascript object>"
      ]
     },
     "metadata": {},
     "output_type": "display_data"
    }
   ],
   "source": [
    "# retCov[\"BTC\"][\"BTC\"] = 0\n",
    "sns.heatmap(retCov)\n",
    "plt.show()"
   ]
  },
  {
   "cell_type": "code",
   "execution_count": 11,
   "metadata": {},
   "outputs": [
    {
     "data": {
      "application/javascript": [
       "\n",
       "        setTimeout(function() {\n",
       "            var nbb_cell_id = 11;\n",
       "            var nbb_formatted_code = \"def randomWeight(length):\\n    w = np.random.random(length)\\n    w /= np.sum(w)\\n    return w\\n\\n\\ndef expectedPortfolioRet(returns, weight):\\n    return np.sum(returns.mean() * weight) * 252\\n\\n\\ndef expectedPortfolioVar(returns, weight):\\n    return np.dot(weight, np.dot(returns.cov() * 252, weight))\\n\\n\\ndef expectedSharpeRatio(returns, weight, rf=0):\\n    return (expectedPortfolioRet(returns, weight) - rf) / expectedPortfolioVar(\\n        returns, weight\\n    )\";\n",
       "            var nbb_cells = Jupyter.notebook.get_cells();\n",
       "            for (var i = 0; i < nbb_cells.length; ++i) {\n",
       "                if (nbb_cells[i].input_prompt_number == nbb_cell_id) {\n",
       "                    nbb_cells[i].set_text(nbb_formatted_code);\n",
       "                    break;\n",
       "                }\n",
       "            }\n",
       "        }, 500);\n",
       "        "
      ],
      "text/plain": [
       "<IPython.core.display.Javascript object>"
      ]
     },
     "metadata": {},
     "output_type": "display_data"
    }
   ],
   "source": [
    "def randomWeight(length):\n",
    "    w = np.random.random(length)\n",
    "    w /= np.sum(w)\n",
    "    return w\n",
    "\n",
    "\n",
    "def expectedPortfolioRet(returns, weight):\n",
    "    return np.sum(returns.mean() * weight) * 252\n",
    "\n",
    "\n",
    "def expectedPortfolioVar(returns, weight):\n",
    "    return np.dot(weight, np.dot(returns.cov() * 252, weight))\n",
    "\n",
    "\n",
    "def expectedSharpeRatio(returns, weight, rf=0):\n",
    "    return (expectedPortfolioRet(returns, weight) - rf) / expectedPortfolioVar(\n",
    "        returns, weight\n",
    "    )"
   ]
  },
  {
   "cell_type": "code",
   "execution_count": 12,
   "metadata": {},
   "outputs": [
    {
     "name": "stdout",
     "output_type": "stream",
     "text": [
      "Sharpe Ratio: 0.9192931634423893\n",
      "Returns: 0.024426103239657028\n",
      "Volatility: 0.004814680904492993\n"
     ]
    },
    {
     "data": {
      "application/javascript": [
       "\n",
       "        setTimeout(function() {\n",
       "            var nbb_cell_id = 12;\n",
       "            var nbb_formatted_code = \"# Find performance of current portfolio to be used as benchmark\\ncurrentWeight = [\\n    0.08992020522,\\n    0.2744348384,\\n    0.03070927321,\\n    0.01896821775,\\n    0.06166520726,\\n    0.06204753154,\\n    0.02053451402,\\n    0.3393806347,\\n    0.102339578,\\n]\\n\\nprint(f\\\"Sharpe Ratio: {expectedSharpeRatio(returns, currentWeight, 0.02)}\\\")\\nprint(f\\\"Returns: {expectedPortfolioRet(returns, currentWeight)}\\\")\\nprint(f\\\"Volatility: {expectedPortfolioVar(returns, currentWeight)}\\\")\";\n",
       "            var nbb_cells = Jupyter.notebook.get_cells();\n",
       "            for (var i = 0; i < nbb_cells.length; ++i) {\n",
       "                if (nbb_cells[i].input_prompt_number == nbb_cell_id) {\n",
       "                    nbb_cells[i].set_text(nbb_formatted_code);\n",
       "                    break;\n",
       "                }\n",
       "            }\n",
       "        }, 500);\n",
       "        "
      ],
      "text/plain": [
       "<IPython.core.display.Javascript object>"
      ]
     },
     "metadata": {},
     "output_type": "display_data"
    }
   ],
   "source": [
    "# Find performance of current portfolio to be used as benchmark\n",
    "currentWeight = [\n",
    "    0.08992020522,\n",
    "    0.2744348384,\n",
    "    0.03070927321,\n",
    "    0.01896821775,\n",
    "    0.06166520726,\n",
    "    0.06204753154,\n",
    "    0.02053451402,\n",
    "    0.3393806347,\n",
    "    0.102339578,\n",
    "]\n",
    "\n",
    "print(f\"Sharpe Ratio: {expectedSharpeRatio(returns, currentWeight, 0.02)}\")\n",
    "print(f\"Returns: {expectedPortfolioRet(returns, currentWeight)}\")\n",
    "print(f\"Volatility: {expectedPortfolioVar(returns, currentWeight)}\")"
   ]
  },
  {
   "cell_type": "code",
   "execution_count": 15,
   "metadata": {},
   "outputs": [
    {
     "data": {
      "application/javascript": [
       "\n",
       "        setTimeout(function() {\n",
       "            var nbb_cell_id = 15;\n",
       "            var nbb_formatted_code = \"noSimulations = 100000\\nrf = 0.02\\nsimWeights = []\\nsimRets = []\\nsimVols = []\\nsimSharpes = []\\n\\nfor i in range(noSimulations):\\n    weights = randomWeight(len(stockNames))\\n    simWeights.append(weights)\\n    ret = expectedPortfolioRet(returns, weights)\\n    var = expectedPortfolioVar(returns, weights)\\n    simRets.append(ret)\\n    simVols.append(var)\\n    simSharpes.append(expectedSharpeRatio(returns, weights, rf))\";\n",
       "            var nbb_cells = Jupyter.notebook.get_cells();\n",
       "            for (var i = 0; i < nbb_cells.length; ++i) {\n",
       "                if (nbb_cells[i].input_prompt_number == nbb_cell_id) {\n",
       "                    nbb_cells[i].set_text(nbb_formatted_code);\n",
       "                    break;\n",
       "                }\n",
       "            }\n",
       "        }, 500);\n",
       "        "
      ],
      "text/plain": [
       "<IPython.core.display.Javascript object>"
      ]
     },
     "metadata": {},
     "output_type": "display_data"
    }
   ],
   "source": [
    "noSimulations = 100000\n",
    "rf = 0.02\n",
    "simWeights = []\n",
    "simRets = []\n",
    "simVols = []\n",
    "simSharpes = []\n",
    "\n",
    "for i in range(noSimulations):\n",
    "    weights = randomWeight(len(stockNames))\n",
    "    simWeights.append(weights)\n",
    "    ret = expectedPortfolioRet(returns, weights)\n",
    "    var = expectedPortfolioVar(returns, weights)\n",
    "    simRets.append(ret)\n",
    "    simVols.append(var)\n",
    "    simSharpes.append(expectedSharpeRatio(returns, weights, rf))"
   ]
  },
  {
   "cell_type": "code",
   "execution_count": 16,
   "metadata": {},
   "outputs": [
    {
     "data": {
      "image/png": "[encoded data removed]",
      "text/plain": [
       "<Figure size 576x288 with 2 Axes>"
      ]
     },
     "metadata": {
      "needs_background": "light"
     },
     "output_type": "display_data"
    },
    {
     "data": {
      "application/javascript": [
       "\n",
       "        setTimeout(function() {\n",
       "            var nbb_cell_id = 16;\n",
       "            var nbb_formatted_code = \"plt.figure(figsize=(8, 4))\\nplt.scatter(simVols, simRets, c=simSharpes, marker=\\\"o\\\")\\nplt.grid(True)\\nplt.xlabel(\\\"Expected volatility\\\")\\nplt.ylabel(\\\"Expected return\\\")\\nplt.colorbar(label=\\\"Sharpe ratio\\\")\\nplt.show()\";\n",
       "            var nbb_cells = Jupyter.notebook.get_cells();\n",
       "            for (var i = 0; i < nbb_cells.length; ++i) {\n",
       "                if (nbb_cells[i].input_prompt_number == nbb_cell_id) {\n",
       "                    nbb_cells[i].set_text(nbb_formatted_code);\n",
       "                    break;\n",
       "                }\n",
       "            }\n",
       "        }, 500);\n",
       "        "
      ],
      "text/plain": [
       "<IPython.core.display.Javascript object>"
      ]
     },
     "metadata": {},
     "output_type": "display_data"
    }
   ],
   "source": [
    "plt.figure(figsize=(8, 4))\n",
    "plt.scatter(simVols, simRets, c=simSharpes, marker=\"o\")\n",
    "plt.grid(True)\n",
    "plt.xlabel(\"Expected volatility\")\n",
    "plt.ylabel(\"Expected return\")\n",
    "plt.colorbar(label=\"Sharpe ratio\")\n",
    "plt.show()"
   ]
  },
  {
   "cell_type": "code",
   "execution_count": 17,
   "metadata": {},
   "outputs": [
    {
     "data": {
      "text/html": [
       "<div>\n",
       "<style scoped>\n",
       "    .dataframe tbody tr th:only-of-type {\n",
       "        vertical-align: middle;\n",
       "    }\n",
       "\n",
       "    .dataframe tbody tr th {\n",
       "        vertical-align: top;\n",
       "    }\n",
       "\n",
       "    .dataframe thead th {\n",
       "        text-align: right;\n",
       "    }\n",
       "</style>\n",
       "<table border=\"1\" class=\"dataframe\">\n",
       "  <thead>\n",
       "    <tr style=\"text-align: right;\">\n",
       "      <th></th>\n",
       "      <th>SharpeRatio</th>\n",
       "      <th>Returns</th>\n",
       "      <th>Volatility</th>\n",
       "      <th>VUSA</th>\n",
       "      <th>A35</th>\n",
       "      <th>S59</th>\n",
       "      <th>VUSD</th>\n",
       "      <th>BAB</th>\n",
       "      <th>IWDA</th>\n",
       "      <th>Z74</th>\n",
       "      <th>ES3</th>\n",
       "      <th>VWRD</th>\n",
       "    </tr>\n",
       "  </thead>\n",
       "  <tbody>\n",
       "    <tr>\n",
       "      <th>0</th>\n",
       "      <td>-2.054235</td>\n",
       "      <td>0.014999</td>\n",
       "      <td>0.002434</td>\n",
       "      <td>6532.429799</td>\n",
       "      <td>26342.662625</td>\n",
       "      <td>8228.960049</td>\n",
       "      <td>1531.050935</td>\n",
       "      <td>34817.992465</td>\n",
       "      <td>6665.857625</td>\n",
       "      <td>7077.693029</td>\n",
       "      <td>805.549906</td>\n",
       "      <td>7997.803567</td>\n",
       "    </tr>\n",
       "    <tr>\n",
       "      <th>1</th>\n",
       "      <td>-1.359242</td>\n",
       "      <td>0.016595</td>\n",
       "      <td>0.002505</td>\n",
       "      <td>3914.764635</td>\n",
       "      <td>24159.682681</td>\n",
       "      <td>3897.622644</td>\n",
       "      <td>871.606516</td>\n",
       "      <td>33594.624971</td>\n",
       "      <td>5090.041474</td>\n",
       "      <td>8299.401446</td>\n",
       "      <td>9128.423058</td>\n",
       "      <td>11043.832574</td>\n",
       "    </tr>\n",
       "    <tr>\n",
       "      <th>2</th>\n",
       "      <td>-3.548983</td>\n",
       "      <td>0.010953</td>\n",
       "      <td>0.002549</td>\n",
       "      <td>2113.375478</td>\n",
       "      <td>30832.054440</td>\n",
       "      <td>7910.699386</td>\n",
       "      <td>2609.710928</td>\n",
       "      <td>26255.448956</td>\n",
       "      <td>10779.549095</td>\n",
       "      <td>2580.193006</td>\n",
       "      <td>14933.259788</td>\n",
       "      <td>1985.708921</td>\n",
       "    </tr>\n",
       "    <tr>\n",
       "      <th>3</th>\n",
       "      <td>0.651869</td>\n",
       "      <td>0.021669</td>\n",
       "      <td>0.002561</td>\n",
       "      <td>793.857642</td>\n",
       "      <td>23835.267911</td>\n",
       "      <td>4564.379183</td>\n",
       "      <td>1560.865136</td>\n",
       "      <td>36647.011368</td>\n",
       "      <td>9802.799056</td>\n",
       "      <td>5852.304042</td>\n",
       "      <td>2837.052454</td>\n",
       "      <td>14106.463208</td>\n",
       "    </tr>\n",
       "    <tr>\n",
       "      <th>4</th>\n",
       "      <td>1.063411</td>\n",
       "      <td>0.022739</td>\n",
       "      <td>0.002576</td>\n",
       "      <td>8218.308897</td>\n",
       "      <td>23729.644116</td>\n",
       "      <td>5744.570512</td>\n",
       "      <td>6364.267847</td>\n",
       "      <td>34151.891722</td>\n",
       "      <td>6878.808200</td>\n",
       "      <td>6574.415075</td>\n",
       "      <td>4311.414321</td>\n",
       "      <td>4026.679310</td>\n",
       "    </tr>\n",
       "    <tr>\n",
       "      <th>5</th>\n",
       "      <td>-7.467270</td>\n",
       "      <td>0.000667</td>\n",
       "      <td>0.002589</td>\n",
       "      <td>2428.371283</td>\n",
       "      <td>27804.422370</td>\n",
       "      <td>16539.595553</td>\n",
       "      <td>3650.063382</td>\n",
       "      <td>30475.907934</td>\n",
       "      <td>2055.898933</td>\n",
       "      <td>3462.607038</td>\n",
       "      <td>3059.335938</td>\n",
       "      <td>10523.797569</td>\n",
       "    </tr>\n",
       "    <tr>\n",
       "      <th>6</th>\n",
       "      <td>0.164808</td>\n",
       "      <td>0.020429</td>\n",
       "      <td>0.002602</td>\n",
       "      <td>4396.546054</td>\n",
       "      <td>18541.680642</td>\n",
       "      <td>7886.292841</td>\n",
       "      <td>6814.112791</td>\n",
       "      <td>35151.682570</td>\n",
       "      <td>9947.404636</td>\n",
       "      <td>5924.558816</td>\n",
       "      <td>7066.608283</td>\n",
       "      <td>4271.113368</td>\n",
       "    </tr>\n",
       "    <tr>\n",
       "      <th>7</th>\n",
       "      <td>-4.366553</td>\n",
       "      <td>0.008433</td>\n",
       "      <td>0.002649</td>\n",
       "      <td>2650.878557</td>\n",
       "      <td>24922.593753</td>\n",
       "      <td>11149.998535</td>\n",
       "      <td>2003.712436</td>\n",
       "      <td>31386.476139</td>\n",
       "      <td>13677.821517</td>\n",
       "      <td>12996.272250</td>\n",
       "      <td>257.710278</td>\n",
       "      <td>954.536535</td>\n",
       "    </tr>\n",
       "    <tr>\n",
       "      <th>8</th>\n",
       "      <td>-7.293863</td>\n",
       "      <td>0.000545</td>\n",
       "      <td>0.002667</td>\n",
       "      <td>5216.528930</td>\n",
       "      <td>24288.130588</td>\n",
       "      <td>19973.832302</td>\n",
       "      <td>10719.774410</td>\n",
       "      <td>33638.805330</td>\n",
       "      <td>1988.763367</td>\n",
       "      <td>454.939402</td>\n",
       "      <td>3703.756647</td>\n",
       "      <td>15.469024</td>\n",
       "    </tr>\n",
       "    <tr>\n",
       "      <th>9</th>\n",
       "      <td>-2.168502</td>\n",
       "      <td>0.014214</td>\n",
       "      <td>0.002668</td>\n",
       "      <td>11664.751660</td>\n",
       "      <td>22033.519156</td>\n",
       "      <td>8114.960110</td>\n",
       "      <td>3635.564620</td>\n",
       "      <td>29881.388908</td>\n",
       "      <td>657.225165</td>\n",
       "      <td>5560.959355</td>\n",
       "      <td>13689.641749</td>\n",
       "      <td>4761.989277</td>\n",
       "    </tr>\n",
       "  </tbody>\n",
       "</table>\n",
       "</div>"
      ],
      "text/plain": [
       "   SharpeRatio   Returns  Volatility          VUSA           A35  \\\n",
       "0    -2.054235  0.014999    0.002434   6532.429799  26342.662625   \n",
       "1    -1.359242  0.016595    0.002505   3914.764635  24159.682681   \n",
       "2    -3.548983  0.010953    0.002549   2113.375478  30832.054440   \n",
       "3     0.651869  0.021669    0.002561    793.857642  23835.267911   \n",
       "4     1.063411  0.022739    0.002576   8218.308897  23729.644116   \n",
       "5    -7.467270  0.000667    0.002589   2428.371283  27804.422370   \n",
       "6     0.164808  0.020429    0.002602   4396.546054  18541.680642   \n",
       "7    -4.366553  0.008433    0.002649   2650.878557  24922.593753   \n",
       "8    -7.293863  0.000545    0.002667   5216.528930  24288.130588   \n",
       "9    -2.168502  0.014214    0.002668  11664.751660  22033.519156   \n",
       "\n",
       "            S59          VUSD           BAB          IWDA           Z74  \\\n",
       "0   8228.960049   1531.050935  34817.992465   6665.857625   7077.693029   \n",
       "1   3897.622644    871.606516  33594.624971   5090.041474   8299.401446   \n",
       "2   7910.699386   2609.710928  26255.448956  10779.549095   2580.193006   \n",
       "3   4564.379183   1560.865136  36647.011368   9802.799056   5852.304042   \n",
       "4   5744.570512   6364.267847  34151.891722   6878.808200   6574.415075   \n",
       "5  16539.595553   3650.063382  30475.907934   2055.898933   3462.607038   \n",
       "6   7886.292841   6814.112791  35151.682570   9947.404636   5924.558816   \n",
       "7  11149.998535   2003.712436  31386.476139  13677.821517  12996.272250   \n",
       "8  19973.832302  10719.774410  33638.805330   1988.763367    454.939402   \n",
       "9   8114.960110   3635.564620  29881.388908    657.225165   5560.959355   \n",
       "\n",
       "            ES3          VWRD  \n",
       "0    805.549906   7997.803567  \n",
       "1   9128.423058  11043.832574  \n",
       "2  14933.259788   1985.708921  \n",
       "3   2837.052454  14106.463208  \n",
       "4   4311.414321   4026.679310  \n",
       "5   3059.335938  10523.797569  \n",
       "6   7066.608283   4271.113368  \n",
       "7    257.710278    954.536535  \n",
       "8   3703.756647     15.469024  \n",
       "9  13689.641749   4761.989277  "
      ]
     },
     "execution_count": 17,
     "metadata": {},
     "output_type": "execute_result"
    },
    {
     "data": {
      "application/javascript": [
       "\n",
       "        setTimeout(function() {\n",
       "            var nbb_cell_id = 17;\n",
       "            var nbb_formatted_code = \"# Get top 10 with lowest volatility\\nsortedIndices = np.argsort(simVols)[:10]\\n\\nresults = []\\nfor x in sortedIndices:\\n    results.append(\\n        np.insert(simWeights[x] * 100000, 0, [simSharpes[x], simRets[x], simVols[x]])\\n    )\\npd.DataFrame(results, columns=[\\\"SharpeRatio\\\", \\\"Returns\\\", \\\"Volatility\\\"] + stockNames)\";\n",
       "            var nbb_cells = Jupyter.notebook.get_cells();\n",
       "            for (var i = 0; i < nbb_cells.length; ++i) {\n",
       "                if (nbb_cells[i].input_prompt_number == nbb_cell_id) {\n",
       "                    nbb_cells[i].set_text(nbb_formatted_code);\n",
       "                    break;\n",
       "                }\n",
       "            }\n",
       "        }, 500);\n",
       "        "
      ],
      "text/plain": [
       "<IPython.core.display.Javascript object>"
      ]
     },
     "metadata": {},
     "output_type": "display_data"
    }
   ],
   "source": [
    "# Get top 10 with lowest volatility\n",
    "sortedIndices = np.argsort(simVols)[:10]\n",
    "\n",
    "results = []\n",
    "for x in sortedIndices:\n",
    "    results.append(\n",
    "        np.insert(simWeights[x] * 100000, 0, [simSharpes[x], simRets[x], simVols[x]])\n",
    "    )\n",
    "pd.DataFrame(results, columns=[\"SharpeRatio\", \"Returns\", \"Volatility\"] + stockNames)"
   ]
  },
  {
   "cell_type": "code",
   "execution_count": 19,
   "metadata": {},
   "outputs": [
    {
     "data": {
      "text/html": [
       "<div>\n",
       "<style scoped>\n",
       "    .dataframe tbody tr th:only-of-type {\n",
       "        vertical-align: middle;\n",
       "    }\n",
       "\n",
       "    .dataframe tbody tr th {\n",
       "        vertical-align: top;\n",
       "    }\n",
       "\n",
       "    .dataframe thead th {\n",
       "        text-align: right;\n",
       "    }\n",
       "</style>\n",
       "<table border=\"1\" class=\"dataframe\">\n",
       "  <thead>\n",
       "    <tr style=\"text-align: right;\">\n",
       "      <th></th>\n",
       "      <th>SharpeRatio</th>\n",
       "      <th>Returns</th>\n",
       "      <th>Volatility</th>\n",
       "      <th>VUSA</th>\n",
       "      <th>A35</th>\n",
       "      <th>S59</th>\n",
       "      <th>VUSD</th>\n",
       "      <th>BAB</th>\n",
       "      <th>IWDA</th>\n",
       "      <th>Z74</th>\n",
       "      <th>ES3</th>\n",
       "      <th>VWRD</th>\n",
       "    </tr>\n",
       "  </thead>\n",
       "  <tbody>\n",
       "    <tr>\n",
       "      <th>0</th>\n",
       "      <td>7.237690</td>\n",
       "      <td>0.074475</td>\n",
       "      <td>0.007527</td>\n",
       "      <td>0.225838</td>\n",
       "      <td>0.138399</td>\n",
       "      <td>0.006374</td>\n",
       "      <td>0.215340</td>\n",
       "      <td>0.205368</td>\n",
       "      <td>0.145695</td>\n",
       "      <td>0.006166</td>\n",
       "      <td>0.005958</td>\n",
       "      <td>0.050861</td>\n",
       "    </tr>\n",
       "    <tr>\n",
       "      <th>1</th>\n",
       "      <td>7.257268</td>\n",
       "      <td>0.068648</td>\n",
       "      <td>0.006703</td>\n",
       "      <td>0.228437</td>\n",
       "      <td>0.136891</td>\n",
       "      <td>0.002021</td>\n",
       "      <td>0.226017</td>\n",
       "      <td>0.217648</td>\n",
       "      <td>0.078797</td>\n",
       "      <td>0.007841</td>\n",
       "      <td>0.056115</td>\n",
       "      <td>0.046235</td>\n",
       "    </tr>\n",
       "    <tr>\n",
       "      <th>2</th>\n",
       "      <td>7.276183</td>\n",
       "      <td>0.063339</td>\n",
       "      <td>0.005956</td>\n",
       "      <td>0.117137</td>\n",
       "      <td>0.098774</td>\n",
       "      <td>0.006074</td>\n",
       "      <td>0.137755</td>\n",
       "      <td>0.252079</td>\n",
       "      <td>0.284425</td>\n",
       "      <td>0.054031</td>\n",
       "      <td>0.045756</td>\n",
       "      <td>0.003968</td>\n",
       "    </tr>\n",
       "    <tr>\n",
       "      <th>3</th>\n",
       "      <td>7.288153</td>\n",
       "      <td>0.058582</td>\n",
       "      <td>0.005294</td>\n",
       "      <td>0.188261</td>\n",
       "      <td>0.222382</td>\n",
       "      <td>0.013856</td>\n",
       "      <td>0.174254</td>\n",
       "      <td>0.214186</td>\n",
       "      <td>0.137861</td>\n",
       "      <td>0.016948</td>\n",
       "      <td>0.029613</td>\n",
       "      <td>0.002638</td>\n",
       "    </tr>\n",
       "    <tr>\n",
       "      <th>4</th>\n",
       "      <td>7.374764</td>\n",
       "      <td>0.062688</td>\n",
       "      <td>0.005788</td>\n",
       "      <td>0.179511</td>\n",
       "      <td>0.196448</td>\n",
       "      <td>0.001625</td>\n",
       "      <td>0.060295</td>\n",
       "      <td>0.232273</td>\n",
       "      <td>0.223548</td>\n",
       "      <td>0.010646</td>\n",
       "      <td>0.001420</td>\n",
       "      <td>0.094233</td>\n",
       "    </tr>\n",
       "    <tr>\n",
       "      <th>5</th>\n",
       "      <td>7.384906</td>\n",
       "      <td>0.059256</td>\n",
       "      <td>0.005316</td>\n",
       "      <td>0.185605</td>\n",
       "      <td>0.178984</td>\n",
       "      <td>0.001745</td>\n",
       "      <td>0.119218</td>\n",
       "      <td>0.237039</td>\n",
       "      <td>0.163896</td>\n",
       "      <td>0.009118</td>\n",
       "      <td>0.065734</td>\n",
       "      <td>0.038661</td>\n",
       "    </tr>\n",
       "    <tr>\n",
       "      <th>6</th>\n",
       "      <td>7.414611</td>\n",
       "      <td>0.058773</td>\n",
       "      <td>0.005229</td>\n",
       "      <td>0.119018</td>\n",
       "      <td>0.138385</td>\n",
       "      <td>0.017726</td>\n",
       "      <td>0.232613</td>\n",
       "      <td>0.298229</td>\n",
       "      <td>0.091419</td>\n",
       "      <td>0.017705</td>\n",
       "      <td>0.013793</td>\n",
       "      <td>0.071113</td>\n",
       "    </tr>\n",
       "    <tr>\n",
       "      <th>7</th>\n",
       "      <td>7.437495</td>\n",
       "      <td>0.059549</td>\n",
       "      <td>0.005318</td>\n",
       "      <td>0.124948</td>\n",
       "      <td>0.144532</td>\n",
       "      <td>0.021068</td>\n",
       "      <td>0.117782</td>\n",
       "      <td>0.272058</td>\n",
       "      <td>0.258715</td>\n",
       "      <td>0.019569</td>\n",
       "      <td>0.016085</td>\n",
       "      <td>0.025244</td>\n",
       "    </tr>\n",
       "    <tr>\n",
       "      <th>8</th>\n",
       "      <td>7.596102</td>\n",
       "      <td>0.057052</td>\n",
       "      <td>0.004878</td>\n",
       "      <td>0.095677</td>\n",
       "      <td>0.104792</td>\n",
       "      <td>0.009828</td>\n",
       "      <td>0.067495</td>\n",
       "      <td>0.315492</td>\n",
       "      <td>0.317040</td>\n",
       "      <td>0.022192</td>\n",
       "      <td>0.054019</td>\n",
       "      <td>0.013465</td>\n",
       "    </tr>\n",
       "    <tr>\n",
       "      <th>9</th>\n",
       "      <td>7.816351</td>\n",
       "      <td>0.060620</td>\n",
       "      <td>0.005197</td>\n",
       "      <td>0.170605</td>\n",
       "      <td>0.065023</td>\n",
       "      <td>0.004958</td>\n",
       "      <td>0.027937</td>\n",
       "      <td>0.357180</td>\n",
       "      <td>0.281188</td>\n",
       "      <td>0.013112</td>\n",
       "      <td>0.036002</td>\n",
       "      <td>0.043996</td>\n",
       "    </tr>\n",
       "  </tbody>\n",
       "</table>\n",
       "</div>"
      ],
      "text/plain": [
       "   SharpeRatio   Returns  Volatility      VUSA       A35       S59      VUSD  \\\n",
       "0     7.237690  0.074475    0.007527  0.225838  0.138399  0.006374  0.215340   \n",
       "1     7.257268  0.068648    0.006703  0.228437  0.136891  0.002021  0.226017   \n",
       "2     7.276183  0.063339    0.005956  0.117137  0.098774  0.006074  0.137755   \n",
       "3     7.288153  0.058582    0.005294  0.188261  0.222382  0.013856  0.174254   \n",
       "4     7.374764  0.062688    0.005788  0.179511  0.196448  0.001625  0.060295   \n",
       "5     7.384906  0.059256    0.005316  0.185605  0.178984  0.001745  0.119218   \n",
       "6     7.414611  0.058773    0.005229  0.119018  0.138385  0.017726  0.232613   \n",
       "7     7.437495  0.059549    0.005318  0.124948  0.144532  0.021068  0.117782   \n",
       "8     7.596102  0.057052    0.004878  0.095677  0.104792  0.009828  0.067495   \n",
       "9     7.816351  0.060620    0.005197  0.170605  0.065023  0.004958  0.027937   \n",
       "\n",
       "        BAB      IWDA       Z74       ES3      VWRD  \n",
       "0  0.205368  0.145695  0.006166  0.005958  0.050861  \n",
       "1  0.217648  0.078797  0.007841  0.056115  0.046235  \n",
       "2  0.252079  0.284425  0.054031  0.045756  0.003968  \n",
       "3  0.214186  0.137861  0.016948  0.029613  0.002638  \n",
       "4  0.232273  0.223548  0.010646  0.001420  0.094233  \n",
       "5  0.237039  0.163896  0.009118  0.065734  0.038661  \n",
       "6  0.298229  0.091419  0.017705  0.013793  0.071113  \n",
       "7  0.272058  0.258715  0.019569  0.016085  0.025244  \n",
       "8  0.315492  0.317040  0.022192  0.054019  0.013465  \n",
       "9  0.357180  0.281188  0.013112  0.036002  0.043996  "
      ]
     },
     "execution_count": 19,
     "metadata": {},
     "output_type": "execute_result"
    },
    {
     "data": {
      "application/javascript": [
       "\n",
       "        setTimeout(function() {\n",
       "            var nbb_cell_id = 19;\n",
       "            var nbb_formatted_code = \"# Get top 10 portfolio with highest sharpe\\nsortedIndices = np.argsort(simSharpes)[-10:]\\n\\nresults = []\\nfor x in sortedIndices:\\n    results.append(np.insert(simWeights[x], 0, [simSharpes[x], simRets[x], simVols[x]]))\\npd.DataFrame(results, columns=[\\\"SharpeRatio\\\", \\\"Returns\\\", \\\"Volatility\\\"] + stockNames)\";\n",
       "            var nbb_cells = Jupyter.notebook.get_cells();\n",
       "            for (var i = 0; i < nbb_cells.length; ++i) {\n",
       "                if (nbb_cells[i].input_prompt_number == nbb_cell_id) {\n",
       "                    nbb_cells[i].set_text(nbb_formatted_code);\n",
       "                    break;\n",
       "                }\n",
       "            }\n",
       "        }, 500);\n",
       "        "
      ],
      "text/plain": [
       "<IPython.core.display.Javascript object>"
      ]
     },
     "metadata": {},
     "output_type": "display_data"
    }
   ],
   "source": [
    "# Get top 10 portfolio with highest sharpe\n",
    "sortedIndices = np.argsort(simSharpes)[-10:]\n",
    "\n",
    "results = []\n",
    "for x in sortedIndices:\n",
    "    results.append(np.insert(simWeights[x], 0, [simSharpes[x], simRets[x], simVols[x]]))\n",
    "pd.DataFrame(results, columns=[\"SharpeRatio\", \"Returns\", \"Volatility\"] + stockNames)"
   ]
  },
  {
   "cell_type": "markdown",
   "metadata": {},
   "source": [
    "## Future Improvements\n",
    "\n",
    "- Simulation of 100k scenarios is too slow, consider using genetics algorithm to find minima\n",
    "- Account for foreign currency conversion rates\n",
    "- K-fold cross validation to ensure the portfolio works for all market condition\n",
    "- Backtest portfolio in different market conditions\n",
    "- Add regular rebalancing into backtest\n",
    "- Simulated returns of portfolio\n",
    "- Difference in trading day alter covariance (BTC)"
   ]
  },
  {
   "cell_type": "code",
   "execution_count": null,
   "metadata": {},
   "outputs": [],
   "source": []
  }
 ],
 "metadata": {
  "kernelspec": {
   "display_name": "Python 3",
   "language": "python",
   "name": "python3"
  },
  "language_info": {
   "codemirror_mode": {
    "name": "ipython",
    "version": 3
   },
   "file_extension": ".py",
   "mimetype": "text/x-python",
   "name": "python",
   "nbconvert_exporter": "python",
   "pygments_lexer": "ipython3",
   "version": "3.7.3"
  }
 },
 "nbformat": 4,
 "nbformat_minor": 2
}
