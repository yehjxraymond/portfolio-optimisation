{
 "cells": [
  {
   "cell_type": "code",
   "execution_count": 65,
   "metadata": {},
   "outputs": [
    {
     "data": {
      "application/javascript": [
       "\n",
       "        setTimeout(function() {\n",
       "            var nbb_cell_id = 65;\n",
       "            var nbb_formatted_code = \"import numpy as np\\nimport matplotlib.pyplot as plt\\nimport pandas as pd\\nimport seaborn as sns\";\n",
       "            var nbb_cells = Jupyter.notebook.get_cells();\n",
       "            for (var i = 0; i < nbb_cells.length; ++i) {\n",
       "                if (nbb_cells[i].input_prompt_number == nbb_cell_id) {\n",
       "                    nbb_cells[i].set_text(nbb_formatted_code);\n",
       "                    break;\n",
       "                }\n",
       "            }\n",
       "        }, 500);\n",
       "        "
      ],
      "text/plain": [
       "<IPython.core.display.Javascript object>"
      ]
     },
     "metadata": {},
     "output_type": "display_data"
    }
   ],
   "source": [
    "import numpy as np\n",
    "import matplotlib.pyplot as plt\n",
    "import pandas as pd\n",
    "import seaborn as sns"
   ]
  },
  {
   "cell_type": "code",
   "execution_count": 63,
   "metadata": {},
   "outputs": [
    {
     "name": "stdout",
     "output_type": "stream",
     "text": [
      "The nb_black extension is already loaded. To reload it, use:\n",
      "  %reload_ext nb_black\n"
     ]
    },
    {
     "data": {
      "application/javascript": [
       "\n",
       "        setTimeout(function() {\n",
       "            var nbb_cell_id = 63;\n",
       "            var nbb_formatted_code = \"np.random.seed(1000)\\n%matplotlib inline\\n%load_ext nb_black\";\n",
       "            var nbb_cells = Jupyter.notebook.get_cells();\n",
       "            for (var i = 0; i < nbb_cells.length; ++i) {\n",
       "                if (nbb_cells[i].input_prompt_number == nbb_cell_id) {\n",
       "                    nbb_cells[i].set_text(nbb_formatted_code);\n",
       "                    break;\n",
       "                }\n",
       "            }\n",
       "        }, 500);\n",
       "        "
      ],
      "text/plain": [
       "<IPython.core.display.Javascript object>"
      ]
     },
     "metadata": {},
     "output_type": "display_data"
    }
   ],
   "source": [
    "np.random.seed(1000)\n",
    "%matplotlib inline\n",
    "%load_ext nb_black"
   ]
  },
  {
   "cell_type": "code",
   "execution_count": null,
   "metadata": {},
   "outputs": [],
   "source": [
    "# Given a stock, remove data of data of all non-trading day\n",
    "def removeNonTradingDays(df):\n",
    "    return df[df.index.dayofweek < 5]\n",
    "\n",
    "# Given a list of stocks, find the common interval (latestStart, earliestEnd) for all the stocks\n",
    "def commonInterval(tickers):\n",
    "    latestStart = None\n",
    "    earliestEnd = None\n",
    "    for data in tickers:\n",
    "        if latestStart == None or data.index[0] > latestStart:\n",
    "            latestStart = data.index[0]\n",
    "        if earliestEnd == None or data.index[-1] < earliestEnd:\n",
    "            earliestEnd = data.index[-1]\n",
    "    return (latestStart, earliestEnd)"
   ]
  },
  {
   "cell_type": "code",
   "execution_count": 66,
   "metadata": {},
   "outputs": [
    {
     "data": {
      "application/javascript": [
       "\n",
       "        setTimeout(function() {\n",
       "            var nbb_cell_id = 66;\n",
       "            var nbb_formatted_code = \"# Load these stocks\\nstockNames = [\\\"VUSA\\\", \\\"A35\\\", \\\"S59\\\", \\\"VUSD\\\", \\\"BAB\\\", \\\"IWDA\\\", \\\"Z74\\\", \\\"ES3\\\", \\\"VWRD\\\", \\\"BTC\\\"]\\nstocks = list(\\n    map(\\n        lambda x: removeNonTradingDays(\\n            pd.read_csv(f\\\"data/{x}.csv\\\", index_col=\\\"Date\\\", parse_dates=True)\\n        ),\\n        stockNames,\\n    )\\n)\";\n",
       "            var nbb_cells = Jupyter.notebook.get_cells();\n",
       "            for (var i = 0; i < nbb_cells.length; ++i) {\n",
       "                if (nbb_cells[i].input_prompt_number == nbb_cell_id) {\n",
       "                    nbb_cells[i].set_text(nbb_formatted_code);\n",
       "                    break;\n",
       "                }\n",
       "            }\n",
       "        }, 500);\n",
       "        "
      ],
      "text/plain": [
       "<IPython.core.display.Javascript object>"
      ]
     },
     "metadata": {},
     "output_type": "display_data"
    }
   ],
   "source": [
    "# Load these stocks\n",
    "stockNames = [\"VUSA\", \"A35\", \"S59\", \"VUSD\", \"BAB\", \"IWDA\", \"Z74\", \"ES3\", \"VWRD\", \"BTC\"]\n",
    "stocks = list(\n",
    "    map(\n",
    "        lambda x: removeNonTradingDays(\n",
    "            pd.read_csv(f\"data/{x}.csv\", index_col=\"Date\", parse_dates=True)\n",
    "        ),\n",
    "        stockNames,\n",
    "    )\n",
    ")"
   ]
  },
  {
   "cell_type": "code",
   "execution_count": 34,
   "metadata": {},
   "outputs": [
    {
     "data": {
      "application/javascript": [
       "\n",
       "        setTimeout(function() {\n",
       "            var nbb_cell_id = 34;\n",
       "            var nbb_formatted_code = \"(start, end) = commonInterval(stocks)\\nstocks[0][start:end]\\ntrimmedStocksClosingPrices = list(map(lambda x: x[start:end].Close, stocks))\\nstocksClosingPrices = pd.concat(trimmedStocksClosingPrices, axis=1, keys=stockNames)\\nstocksClosingPricesForwardFilled = stocksClosingPrices.fillna(method=\\\"ffill\\\")\\nnormalisedClosingPrice = (\\n    stocksClosingPricesForwardFilled / stocksClosingPricesForwardFilled.iloc[0]\\n)\";\n",
       "            var nbb_cells = Jupyter.notebook.get_cells();\n",
       "            for (var i = 0; i < nbb_cells.length; ++i) {\n",
       "                if (nbb_cells[i].input_prompt_number == nbb_cell_id) {\n",
       "                    nbb_cells[i].set_text(nbb_formatted_code);\n",
       "                    break;\n",
       "                }\n",
       "            }\n",
       "        }, 500);\n",
       "        "
      ],
      "text/plain": [
       "<IPython.core.display.Javascript object>"
      ]
     },
     "metadata": {},
     "output_type": "display_data"
    }
   ],
   "source": [
    "# Find common interval of all stocks and trim them to it\n",
    "(start, end) = commonInterval(stocks)\n",
    "trimmedStocksClosingPrices = list(map(lambda x: x[start:end].Close, stocks))\n",
    "\n",
    "# Fill in NA and normalise closing prices\n",
    "stocksClosingPrices = pd.concat(trimmedStocksClosingPrices, axis=1, keys=stockNames)\n",
    "stocksClosingPricesForwardFilled = stocksClosingPrices.fillna(method=\"ffill\")\n",
    "normalisedClosingPrice = (\n",
    "    stocksClosingPricesForwardFilled / stocksClosingPricesForwardFilled.iloc[0]\n",
    ")"
   ]
  },
  {
   "cell_type": "code",
   "execution_count": 35,
   "metadata": {},
   "outputs": [
    {
     "data": {
      "image/png": "[encoded data removed]",
      "text/plain": [
       "<Figure size 432x288 with 1 Axes>"
      ]
     },
     "metadata": {
      "needs_background": "light"
     },
     "output_type": "display_data"
    },
    {
     "data": {
      "application/javascript": [
       "\n",
       "        setTimeout(function() {\n",
       "            var nbb_cell_id = 35;\n",
       "            var nbb_formatted_code = \"normalisedClosingPrice.plot()\\nplt.show()\";\n",
       "            var nbb_cells = Jupyter.notebook.get_cells();\n",
       "            for (var i = 0; i < nbb_cells.length; ++i) {\n",
       "                if (nbb_cells[i].input_prompt_number == nbb_cell_id) {\n",
       "                    nbb_cells[i].set_text(nbb_formatted_code);\n",
       "                    break;\n",
       "                }\n",
       "            }\n",
       "        }, 500);\n",
       "        "
      ],
      "text/plain": [
       "<IPython.core.display.Javascript object>"
      ]
     },
     "metadata": {},
     "output_type": "display_data"
    }
   ],
   "source": [
    "normalisedClosingPrice.plot()\n",
    "plt.show()"
   ]
  },
  {
   "cell_type": "code",
   "execution_count": 67,
   "metadata": {},
   "outputs": [
    {
     "data": {
      "text/plain": [
       "VUSA    0.116555\n",
       "A35    -0.003435\n",
       "S59    -0.111506\n",
       "VUSD    0.123656\n",
       "BAB     0.006382\n",
       "IWDA    0.112410\n",
       "Z74    -0.016373\n",
       "ES3    -0.000294\n",
       "VWRD    0.085848\n",
       "BTC     0.688380\n",
       "dtype: float64"
      ]
     },
     "execution_count": 67,
     "metadata": {},
     "output_type": "execute_result"
    },
    {
     "data": {
      "application/javascript": [
       "\n",
       "        setTimeout(function() {\n",
       "            var nbb_cell_id = 67;\n",
       "            var nbb_formatted_code = \"# Calculate returns of individual assets\\nreturns = np.log(normalisedClosingPrice / normalisedClosingPrice.shift(1))\\nreturns.mean() * 252\";\n",
       "            var nbb_cells = Jupyter.notebook.get_cells();\n",
       "            for (var i = 0; i < nbb_cells.length; ++i) {\n",
       "                if (nbb_cells[i].input_prompt_number == nbb_cell_id) {\n",
       "                    nbb_cells[i].set_text(nbb_formatted_code);\n",
       "                    break;\n",
       "                }\n",
       "            }\n",
       "        }, 500);\n",
       "        "
      ],
      "text/plain": [
       "<IPython.core.display.Javascript object>"
      ]
     },
     "metadata": {},
     "output_type": "display_data"
    }
   ],
   "source": [
    "# Calculate returns of individual assets based on trading days\n",
    "returns = np.log(normalisedClosingPrice / normalisedClosingPrice.shift(1))\n",
    "returns.mean() * 252"
   ]
  },
  {
   "cell_type": "code",
   "execution_count": 69,
   "metadata": {},
   "outputs": [
    {
     "data": {
      "text/html": [
       "<div>\n",
       "<style scoped>\n",
       "    .dataframe tbody tr th:only-of-type {\n",
       "        vertical-align: middle;\n",
       "    }\n",
       "\n",
       "    .dataframe tbody tr th {\n",
       "        vertical-align: top;\n",
       "    }\n",
       "\n",
       "    .dataframe thead th {\n",
       "        text-align: right;\n",
       "    }\n",
       "</style>\n",
       "<table border=\"1\" class=\"dataframe\">\n",
       "  <thead>\n",
       "    <tr style=\"text-align: right;\">\n",
       "      <th></th>\n",
       "      <th>VUSA</th>\n",
       "      <th>A35</th>\n",
       "      <th>S59</th>\n",
       "      <th>VUSD</th>\n",
       "      <th>BAB</th>\n",
       "      <th>IWDA</th>\n",
       "      <th>Z74</th>\n",
       "      <th>ES3</th>\n",
       "      <th>VWRD</th>\n",
       "      <th>BTC</th>\n",
       "    </tr>\n",
       "  </thead>\n",
       "  <tbody>\n",
       "    <tr>\n",
       "      <th>VUSA</th>\n",
       "      <td>0.022677</td>\n",
       "      <td>-0.000161</td>\n",
       "      <td>0.001938</td>\n",
       "      <td>0.017113</td>\n",
       "      <td>-0.001397</td>\n",
       "      <td>0.015510</td>\n",
       "      <td>0.004836</td>\n",
       "      <td>0.005984</td>\n",
       "      <td>0.015387</td>\n",
       "      <td>0.005472</td>\n",
       "    </tr>\n",
       "    <tr>\n",
       "      <th>A35</th>\n",
       "      <td>-0.000161</td>\n",
       "      <td>0.008798</td>\n",
       "      <td>-0.000044</td>\n",
       "      <td>-0.000117</td>\n",
       "      <td>0.000284</td>\n",
       "      <td>-0.000010</td>\n",
       "      <td>0.000010</td>\n",
       "      <td>-0.000351</td>\n",
       "      <td>0.000095</td>\n",
       "      <td>0.002690</td>\n",
       "    </tr>\n",
       "    <tr>\n",
       "      <th>S59</th>\n",
       "      <td>0.001938</td>\n",
       "      <td>-0.000044</td>\n",
       "      <td>0.024061</td>\n",
       "      <td>0.001086</td>\n",
       "      <td>-0.000247</td>\n",
       "      <td>0.001383</td>\n",
       "      <td>0.004336</td>\n",
       "      <td>0.004458</td>\n",
       "      <td>0.001403</td>\n",
       "      <td>-0.004405</td>\n",
       "    </tr>\n",
       "    <tr>\n",
       "      <th>VUSD</th>\n",
       "      <td>0.017113</td>\n",
       "      <td>-0.000117</td>\n",
       "      <td>0.001086</td>\n",
       "      <td>0.019929</td>\n",
       "      <td>-0.000829</td>\n",
       "      <td>0.017988</td>\n",
       "      <td>0.004177</td>\n",
       "      <td>0.004434</td>\n",
       "      <td>0.017860</td>\n",
       "      <td>0.003496</td>\n",
       "    </tr>\n",
       "    <tr>\n",
       "      <th>BAB</th>\n",
       "      <td>-0.001397</td>\n",
       "      <td>0.000284</td>\n",
       "      <td>-0.000247</td>\n",
       "      <td>-0.000829</td>\n",
       "      <td>0.003838</td>\n",
       "      <td>-0.000924</td>\n",
       "      <td>-0.000146</td>\n",
       "      <td>-0.000403</td>\n",
       "      <td>-0.000883</td>\n",
       "      <td>-0.000057</td>\n",
       "    </tr>\n",
       "    <tr>\n",
       "      <th>IWDA</th>\n",
       "      <td>0.015510</td>\n",
       "      <td>-0.000010</td>\n",
       "      <td>0.001383</td>\n",
       "      <td>0.017988</td>\n",
       "      <td>-0.000924</td>\n",
       "      <td>0.017311</td>\n",
       "      <td>0.004709</td>\n",
       "      <td>0.005054</td>\n",
       "      <td>0.017231</td>\n",
       "      <td>0.002094</td>\n",
       "    </tr>\n",
       "    <tr>\n",
       "      <th>Z74</th>\n",
       "      <td>0.004836</td>\n",
       "      <td>0.000010</td>\n",
       "      <td>0.004336</td>\n",
       "      <td>0.004177</td>\n",
       "      <td>-0.000146</td>\n",
       "      <td>0.004709</td>\n",
       "      <td>0.025644</td>\n",
       "      <td>0.010123</td>\n",
       "      <td>0.004937</td>\n",
       "      <td>-0.000259</td>\n",
       "    </tr>\n",
       "    <tr>\n",
       "      <th>ES3</th>\n",
       "      <td>0.005984</td>\n",
       "      <td>-0.000351</td>\n",
       "      <td>0.004458</td>\n",
       "      <td>0.004434</td>\n",
       "      <td>-0.000403</td>\n",
       "      <td>0.005054</td>\n",
       "      <td>0.010123</td>\n",
       "      <td>0.013562</td>\n",
       "      <td>0.005285</td>\n",
       "      <td>-0.003810</td>\n",
       "    </tr>\n",
       "    <tr>\n",
       "      <th>VWRD</th>\n",
       "      <td>0.015387</td>\n",
       "      <td>0.000095</td>\n",
       "      <td>0.001403</td>\n",
       "      <td>0.017860</td>\n",
       "      <td>-0.000883</td>\n",
       "      <td>0.017231</td>\n",
       "      <td>0.004937</td>\n",
       "      <td>0.005285</td>\n",
       "      <td>0.017495</td>\n",
       "      <td>0.002736</td>\n",
       "    </tr>\n",
       "    <tr>\n",
       "      <th>BTC</th>\n",
       "      <td>0.005472</td>\n",
       "      <td>0.002690</td>\n",
       "      <td>-0.004405</td>\n",
       "      <td>0.003496</td>\n",
       "      <td>-0.000057</td>\n",
       "      <td>0.002094</td>\n",
       "      <td>-0.000259</td>\n",
       "      <td>-0.003810</td>\n",
       "      <td>0.002736</td>\n",
       "      <td>1.214764</td>\n",
       "    </tr>\n",
       "  </tbody>\n",
       "</table>\n",
       "</div>"
      ],
      "text/plain": [
       "          VUSA       A35       S59      VUSD       BAB      IWDA       Z74  \\\n",
       "VUSA  0.022677 -0.000161  0.001938  0.017113 -0.001397  0.015510  0.004836   \n",
       "A35  -0.000161  0.008798 -0.000044 -0.000117  0.000284 -0.000010  0.000010   \n",
       "S59   0.001938 -0.000044  0.024061  0.001086 -0.000247  0.001383  0.004336   \n",
       "VUSD  0.017113 -0.000117  0.001086  0.019929 -0.000829  0.017988  0.004177   \n",
       "BAB  -0.001397  0.000284 -0.000247 -0.000829  0.003838 -0.000924 -0.000146   \n",
       "IWDA  0.015510 -0.000010  0.001383  0.017988 -0.000924  0.017311  0.004709   \n",
       "Z74   0.004836  0.000010  0.004336  0.004177 -0.000146  0.004709  0.025644   \n",
       "ES3   0.005984 -0.000351  0.004458  0.004434 -0.000403  0.005054  0.010123   \n",
       "VWRD  0.015387  0.000095  0.001403  0.017860 -0.000883  0.017231  0.004937   \n",
       "BTC   0.005472  0.002690 -0.004405  0.003496 -0.000057  0.002094 -0.000259   \n",
       "\n",
       "           ES3      VWRD       BTC  \n",
       "VUSA  0.005984  0.015387  0.005472  \n",
       "A35  -0.000351  0.000095  0.002690  \n",
       "S59   0.004458  0.001403 -0.004405  \n",
       "VUSD  0.004434  0.017860  0.003496  \n",
       "BAB  -0.000403 -0.000883 -0.000057  \n",
       "IWDA  0.005054  0.017231  0.002094  \n",
       "Z74   0.010123  0.004937 -0.000259  \n",
       "ES3   0.013562  0.005285 -0.003810  \n",
       "VWRD  0.005285  0.017495  0.002736  \n",
       "BTC  -0.003810  0.002736  1.214764  "
      ]
     },
     "execution_count": 69,
     "metadata": {},
     "output_type": "execute_result"
    },
    {
     "data": {
      "application/javascript": [
       "\n",
       "        setTimeout(function() {\n",
       "            var nbb_cell_id = 69;\n",
       "            var nbb_formatted_code = \"# Calculate covariance of each asset to another based on trading days\\nretCov = returns.cov() * 252\\nretCov\";\n",
       "            var nbb_cells = Jupyter.notebook.get_cells();\n",
       "            for (var i = 0; i < nbb_cells.length; ++i) {\n",
       "                if (nbb_cells[i].input_prompt_number == nbb_cell_id) {\n",
       "                    nbb_cells[i].set_text(nbb_formatted_code);\n",
       "                    break;\n",
       "                }\n",
       "            }\n",
       "        }, 500);\n",
       "        "
      ],
      "text/plain": [
       "<IPython.core.display.Javascript object>"
      ]
     },
     "metadata": {},
     "output_type": "display_data"
    }
   ],
   "source": [
    "# Calculate covariance of each asset to another based on trading days\n",
    "retCov = returns.cov() * 252\n",
    "retCov"
   ]
  },
  {
   "cell_type": "code",
   "execution_count": 54,
   "metadata": {},
   "outputs": [
    {
     "data": {
      "image/png": "[encoded data removed]",
      "text/plain": [
       "<Figure size 432x288 with 2 Axes>"
      ]
     },
     "metadata": {
      "needs_background": "light"
     },
     "output_type": "display_data"
    },
    {
     "data": {
      "application/javascript": [
       "\n",
       "        setTimeout(function() {\n",
       "            var nbb_cell_id = 54;\n",
       "            var nbb_formatted_code = \"retCov[\\\"BTC\\\"][\\\"BTC\\\"] = 0\\nsns.heatmap(retCov)\\nplt.show()\";\n",
       "            var nbb_cells = Jupyter.notebook.get_cells();\n",
       "            for (var i = 0; i < nbb_cells.length; ++i) {\n",
       "                if (nbb_cells[i].input_prompt_number == nbb_cell_id) {\n",
       "                    nbb_cells[i].set_text(nbb_formatted_code);\n",
       "                    break;\n",
       "                }\n",
       "            }\n",
       "        }, 500);\n",
       "        "
      ],
      "text/plain": [
       "<IPython.core.display.Javascript object>"
      ]
     },
     "metadata": {},
     "output_type": "display_data"
    }
   ],
   "source": [
    "# Specifically removing covariance of BTC-BTC to prevent it from skewing the scale\n",
    "retCov[\"BTC\"][\"BTC\"] = 0\n",
    "sns.heatmap(retCov)\n",
    "plt.show()"
   ]
  },
  {
   "cell_type": "code",
   "execution_count": 55,
   "metadata": {},
   "outputs": [
    {
     "data": {
      "application/javascript": [
       "\n",
       "        setTimeout(function() {\n",
       "            var nbb_cell_id = 55;\n",
       "            var nbb_formatted_code = \"def randomWeight(length):\\n    w = np.random.random(length)\\n    w /= np.sum(w)\\n    return w\\n\\n\\ndef expectedPortfolioRet(returns, weight):\\n    return np.sum(returns.mean() * weight) * 252\\n\\n\\ndef expectedPortfolioVar(returns, weight):\\n    return np.dot(weight, np.dot(returns.cov() * 252, weight))\\n\\n\\ndef expectedSharpeRatio(returns, weight, rf=0):\\n    return (expectedPortfolioRet(returns, weight) - rf) / expectedPortfolioVar(\\n        returns, weight\\n    )\";\n",
       "            var nbb_cells = Jupyter.notebook.get_cells();\n",
       "            for (var i = 0; i < nbb_cells.length; ++i) {\n",
       "                if (nbb_cells[i].input_prompt_number == nbb_cell_id) {\n",
       "                    nbb_cells[i].set_text(nbb_formatted_code);\n",
       "                    break;\n",
       "                }\n",
       "            }\n",
       "        }, 500);\n",
       "        "
      ],
      "text/plain": [
       "<IPython.core.display.Javascript object>"
      ]
     },
     "metadata": {},
     "output_type": "display_data"
    }
   ],
   "source": [
    "def randomWeight(length):\n",
    "    w = np.random.random(length)\n",
    "    w /= np.sum(w)\n",
    "    return w\n",
    "\n",
    "\n",
    "def expectedPortfolioRet(returns, weight):\n",
    "    return np.sum(returns.mean() * weight) * 252\n",
    "\n",
    "\n",
    "def expectedPortfolioVar(returns, weight):\n",
    "    return np.dot(weight, np.dot(returns.cov() * 252, weight))\n",
    "\n",
    "\n",
    "def expectedSharpeRatio(returns, weight, rf=0):\n",
    "    return (expectedPortfolioRet(returns, weight) - rf) / expectedPortfolioVar(\n",
    "        returns, weight\n",
    "    )"
   ]
  },
  {
   "cell_type": "code",
   "execution_count": 85,
   "metadata": {},
   "outputs": [
    {
     "name": "stdout",
     "output_type": "stream",
     "text": [
      "Sharpe Ratio: 0.8765527874357544\n",
      "Returns: 0.024177333251220037\n",
      "Volatility: 0.004765637975369746\n"
     ]
    },
    {
     "data": {
      "application/javascript": [
       "\n",
       "        setTimeout(function() {\n",
       "            var nbb_cell_id = 85;\n",
       "            var nbb_formatted_code = \"# Find performance of current portfolio to be used as benchmark\\ncurrentWeight = [\\n    0.08992020522,\\n    0.2744348384,\\n    0.03070927321,\\n    0.01896821775,\\n    0.06166520726,\\n    0.06204753154,\\n    0.02053451402,\\n    0.3393806347,\\n    0.102339578,\\n    0,\\n]\\n\\nprint(f\\\"Sharpe Ratio: {expectedSharpeRatio(returns, currentWeight, 0.02)}\\\")\\nprint(f\\\"Returns: {expectedPortfolioRet(returns, currentWeight)}\\\")\\nprint(f\\\"Volatility: {expectedPortfolioVar(returns, currentWeight)}\\\")\";\n",
       "            var nbb_cells = Jupyter.notebook.get_cells();\n",
       "            for (var i = 0; i < nbb_cells.length; ++i) {\n",
       "                if (nbb_cells[i].input_prompt_number == nbb_cell_id) {\n",
       "                    nbb_cells[i].set_text(nbb_formatted_code);\n",
       "                    break;\n",
       "                }\n",
       "            }\n",
       "        }, 500);\n",
       "        "
      ],
      "text/plain": [
       "<IPython.core.display.Javascript object>"
      ]
     },
     "metadata": {},
     "output_type": "display_data"
    }
   ],
   "source": [
    "# Find performance of current portfolio to be used as benchmark\n",
    "currentWeight = [\n",
    "    0.08992020522,\n",
    "    0.2744348384,\n",
    "    0.03070927321,\n",
    "    0.01896821775,\n",
    "    0.06166520726,\n",
    "    0.06204753154,\n",
    "    0.02053451402,\n",
    "    0.3393806347,\n",
    "    0.102339578,\n",
    "    0,\n",
    "]\n",
    "\n",
    "print(f\"Sharpe Ratio: {expectedSharpeRatio(returns, currentWeight, 0.02)}\")\n",
    "print(f\"Returns: {expectedPortfolioRet(returns, currentWeight)}\")\n",
    "print(f\"Volatility: {expectedPortfolioVar(returns, currentWeight)}\")"
   ]
  },
  {
   "cell_type": "code",
   "execution_count": 74,
   "metadata": {},
   "outputs": [
    {
     "data": {
      "application/javascript": [
       "\n",
       "        setTimeout(function() {\n",
       "            var nbb_cell_id = 74;\n",
       "            var nbb_formatted_code = \"noSimulations = 100000\\nrf = 0.02\\nsimWeights = []\\nsimRets = []\\nsimVols = []\\nsimSharpes = []\\n\\nfor i in range(noSimulations):\\n    weights = randomWeight(10)\\n    simWeights.append(weights)\\n    ret = expectedPortfolioRet(returns, weights)\\n    var = expectedPortfolioVar(returns, weights)\\n    simRets.append(ret)\\n    simVols.append(var)\\n    simSharpes.append(expectedSharpeRatio(returns, weights, rf))\";\n",
       "            var nbb_cells = Jupyter.notebook.get_cells();\n",
       "            for (var i = 0; i < nbb_cells.length; ++i) {\n",
       "                if (nbb_cells[i].input_prompt_number == nbb_cell_id) {\n",
       "                    nbb_cells[i].set_text(nbb_formatted_code);\n",
       "                    break;\n",
       "                }\n",
       "            }\n",
       "        }, 500);\n",
       "        "
      ],
      "text/plain": [
       "<IPython.core.display.Javascript object>"
      ]
     },
     "metadata": {},
     "output_type": "display_data"
    }
   ],
   "source": [
    "noSimulations = 100000\n",
    "rf = 0.02\n",
    "simWeights = []\n",
    "simRets = []\n",
    "simVols = []\n",
    "simSharpes = []\n",
    "\n",
    "for i in range(noSimulations):\n",
    "    weights = randomWeight(10)\n",
    "    simWeights.append(weights)\n",
    "    ret = expectedPortfolioRet(returns, weights)\n",
    "    var = expectedPortfolioVar(returns, weights)\n",
    "    simRets.append(ret)\n",
    "    simVols.append(var)\n",
    "    simSharpes.append(expectedSharpeRatio(returns, weights, rf))"
   ]
  },
  {
   "cell_type": "code",
   "execution_count": 75,
   "metadata": {},
   "outputs": [
    {
     "data": {
      "image/png": "[encoded data removed]",
      "text/plain": [
       "<Figure size 576x288 with 2 Axes>"
      ]
     },
     "metadata": {
      "needs_background": "light"
     },
     "output_type": "display_data"
    },
    {
     "data": {
      "application/javascript": [
       "\n",
       "        setTimeout(function() {\n",
       "            var nbb_cell_id = 75;\n",
       "            var nbb_formatted_code = \"plt.figure(figsize=(8, 4))\\nplt.scatter(simVols, simRets, c=simSharpes, marker=\\\"o\\\")\\nplt.grid(True)\\nplt.xlabel(\\\"Expected volatility\\\")\\nplt.ylabel(\\\"Expected return\\\")\\nplt.colorbar(label=\\\"Sharpe ratio\\\")\\nplt.show()\";\n",
       "            var nbb_cells = Jupyter.notebook.get_cells();\n",
       "            for (var i = 0; i < nbb_cells.length; ++i) {\n",
       "                if (nbb_cells[i].input_prompt_number == nbb_cell_id) {\n",
       "                    nbb_cells[i].set_text(nbb_formatted_code);\n",
       "                    break;\n",
       "                }\n",
       "            }\n",
       "        }, 500);\n",
       "        "
      ],
      "text/plain": [
       "<IPython.core.display.Javascript object>"
      ]
     },
     "metadata": {},
     "output_type": "display_data"
    }
   ],
   "source": [
    "plt.figure(figsize=(8, 4))\n",
    "plt.scatter(simVols, simRets, c=simSharpes, marker=\"o\")\n",
    "plt.grid(True)\n",
    "plt.xlabel(\"Expected volatility\")\n",
    "plt.ylabel(\"Expected return\")\n",
    "plt.colorbar(label=\"Sharpe ratio\")\n",
    "plt.show()"
   ]
  },
  {
   "cell_type": "code",
   "execution_count": 76,
   "metadata": {},
   "outputs": [
    {
     "data": {
      "text/html": [
       "<div>\n",
       "<style scoped>\n",
       "    .dataframe tbody tr th:only-of-type {\n",
       "        vertical-align: middle;\n",
       "    }\n",
       "\n",
       "    .dataframe tbody tr th {\n",
       "        vertical-align: top;\n",
       "    }\n",
       "\n",
       "    .dataframe thead th {\n",
       "        text-align: right;\n",
       "    }\n",
       "</style>\n",
       "<table border=\"1\" class=\"dataframe\">\n",
       "  <thead>\n",
       "    <tr style=\"text-align: right;\">\n",
       "      <th></th>\n",
       "      <th>SharpeRatio</th>\n",
       "      <th>Returns</th>\n",
       "      <th>Volatility</th>\n",
       "      <th>VUSA</th>\n",
       "      <th>A35</th>\n",
       "      <th>S59</th>\n",
       "      <th>VUSD</th>\n",
       "      <th>BAB</th>\n",
       "      <th>IWDA</th>\n",
       "      <th>Z74</th>\n",
       "      <th>ES3</th>\n",
       "      <th>VWRD</th>\n",
       "      <th>BTC</th>\n",
       "    </tr>\n",
       "  </thead>\n",
       "  <tbody>\n",
       "    <tr>\n",
       "      <th>0</th>\n",
       "      <td>-7.619681</td>\n",
       "      <td>-0.001613</td>\n",
       "      <td>0.002836</td>\n",
       "      <td>771.460029</td>\n",
       "      <td>28397.778807</td>\n",
       "      <td>13208.233954</td>\n",
       "      <td>2052.812723</td>\n",
       "      <td>23063.480157</td>\n",
       "      <td>6015.023898</td>\n",
       "      <td>8989.792776</td>\n",
       "      <td>15509.829544</td>\n",
       "      <td>1621.921718</td>\n",
       "      <td>369.666391</td>\n",
       "    </tr>\n",
       "    <tr>\n",
       "      <th>1</th>\n",
       "      <td>2.145913</td>\n",
       "      <td>0.026105</td>\n",
       "      <td>0.002845</td>\n",
       "      <td>3923.829112</td>\n",
       "      <td>28163.550215</td>\n",
       "      <td>6285.344691</td>\n",
       "      <td>3174.327966</td>\n",
       "      <td>27512.240839</td>\n",
       "      <td>6408.242318</td>\n",
       "      <td>7023.362962</td>\n",
       "      <td>6979.081284</td>\n",
       "      <td>9077.185119</td>\n",
       "      <td>1452.835493</td>\n",
       "    </tr>\n",
       "    <tr>\n",
       "      <th>2</th>\n",
       "      <td>3.098376</td>\n",
       "      <td>0.028907</td>\n",
       "      <td>0.002875</td>\n",
       "      <td>13793.100725</td>\n",
       "      <td>20133.455165</td>\n",
       "      <td>7216.360803</td>\n",
       "      <td>2961.247413</td>\n",
       "      <td>33816.637087</td>\n",
       "      <td>1330.858082</td>\n",
       "      <td>3469.125993</td>\n",
       "      <td>13784.174373</td>\n",
       "      <td>1526.602381</td>\n",
       "      <td>1968.437978</td>\n",
       "    </tr>\n",
       "    <tr>\n",
       "      <th>3</th>\n",
       "      <td>-0.327470</td>\n",
       "      <td>0.018982</td>\n",
       "      <td>0.003110</td>\n",
       "      <td>6943.261180</td>\n",
       "      <td>25335.730879</td>\n",
       "      <td>7826.937417</td>\n",
       "      <td>3105.497689</td>\n",
       "      <td>23275.718499</td>\n",
       "      <td>3290.728275</td>\n",
       "      <td>4153.400976</td>\n",
       "      <td>23471.835059</td>\n",
       "      <td>940.261534</td>\n",
       "      <td>1656.628492</td>\n",
       "    </tr>\n",
       "    <tr>\n",
       "      <th>4</th>\n",
       "      <td>1.211124</td>\n",
       "      <td>0.023789</td>\n",
       "      <td>0.003129</td>\n",
       "      <td>1108.155850</td>\n",
       "      <td>29397.069082</td>\n",
       "      <td>8613.155884</td>\n",
       "      <td>1237.263077</td>\n",
       "      <td>21129.947862</td>\n",
       "      <td>26763.736178</td>\n",
       "      <td>4530.081423</td>\n",
       "      <td>7083.549722</td>\n",
       "      <td>5.437534</td>\n",
       "      <td>131.603387</td>\n",
       "    </tr>\n",
       "    <tr>\n",
       "      <th>5</th>\n",
       "      <td>0.767520</td>\n",
       "      <td>0.022408</td>\n",
       "      <td>0.003137</td>\n",
       "      <td>13155.798320</td>\n",
       "      <td>18835.552707</td>\n",
       "      <td>1756.126326</td>\n",
       "      <td>851.691031</td>\n",
       "      <td>29158.459295</td>\n",
       "      <td>863.710336</td>\n",
       "      <td>387.375437</td>\n",
       "      <td>28430.322381</td>\n",
       "      <td>6509.673336</td>\n",
       "      <td>51.290833</td>\n",
       "    </tr>\n",
       "    <tr>\n",
       "      <th>6</th>\n",
       "      <td>-1.858491</td>\n",
       "      <td>0.014123</td>\n",
       "      <td>0.003162</td>\n",
       "      <td>4712.716185</td>\n",
       "      <td>23566.754975</td>\n",
       "      <td>10545.417975</td>\n",
       "      <td>6709.362603</td>\n",
       "      <td>21399.238359</td>\n",
       "      <td>3224.729877</td>\n",
       "      <td>10723.154972</td>\n",
       "      <td>14855.282705</td>\n",
       "      <td>3259.053164</td>\n",
       "      <td>1004.289185</td>\n",
       "    </tr>\n",
       "    <tr>\n",
       "      <th>7</th>\n",
       "      <td>-6.036110</td>\n",
       "      <td>0.000736</td>\n",
       "      <td>0.003192</td>\n",
       "      <td>3497.930394</td>\n",
       "      <td>12239.184414</td>\n",
       "      <td>15774.352533</td>\n",
       "      <td>5270.218556</td>\n",
       "      <td>31436.325037</td>\n",
       "      <td>55.927226</td>\n",
       "      <td>14847.032599</td>\n",
       "      <td>6940.369114</td>\n",
       "      <td>9938.405262</td>\n",
       "      <td>0.254864</td>\n",
       "    </tr>\n",
       "    <tr>\n",
       "      <th>8</th>\n",
       "      <td>0.360412</td>\n",
       "      <td>0.021164</td>\n",
       "      <td>0.003228</td>\n",
       "      <td>3371.855776</td>\n",
       "      <td>20109.425063</td>\n",
       "      <td>10747.729577</td>\n",
       "      <td>11634.970301</td>\n",
       "      <td>24635.575993</td>\n",
       "      <td>3996.928419</td>\n",
       "      <td>5859.832530</td>\n",
       "      <td>8673.494410</td>\n",
       "      <td>10800.324091</td>\n",
       "      <td>169.863840</td>\n",
       "    </tr>\n",
       "    <tr>\n",
       "      <th>9</th>\n",
       "      <td>2.142600</td>\n",
       "      <td>0.026940</td>\n",
       "      <td>0.003239</td>\n",
       "      <td>4522.724577</td>\n",
       "      <td>24592.725148</td>\n",
       "      <td>7685.140835</td>\n",
       "      <td>14939.388521</td>\n",
       "      <td>24135.877115</td>\n",
       "      <td>4121.377200</td>\n",
       "      <td>13270.069364</td>\n",
       "      <td>4076.403740</td>\n",
       "      <td>1604.013243</td>\n",
       "      <td>1052.280258</td>\n",
       "    </tr>\n",
       "  </tbody>\n",
       "</table>\n",
       "</div>"
      ],
      "text/plain": [
       "   SharpeRatio   Returns  Volatility          VUSA           A35  \\\n",
       "0    -7.619681 -0.001613    0.002836    771.460029  28397.778807   \n",
       "1     2.145913  0.026105    0.002845   3923.829112  28163.550215   \n",
       "2     3.098376  0.028907    0.002875  13793.100725  20133.455165   \n",
       "3    -0.327470  0.018982    0.003110   6943.261180  25335.730879   \n",
       "4     1.211124  0.023789    0.003129   1108.155850  29397.069082   \n",
       "5     0.767520  0.022408    0.003137  13155.798320  18835.552707   \n",
       "6    -1.858491  0.014123    0.003162   4712.716185  23566.754975   \n",
       "7    -6.036110  0.000736    0.003192   3497.930394  12239.184414   \n",
       "8     0.360412  0.021164    0.003228   3371.855776  20109.425063   \n",
       "9     2.142600  0.026940    0.003239   4522.724577  24592.725148   \n",
       "\n",
       "            S59          VUSD           BAB          IWDA           Z74  \\\n",
       "0  13208.233954   2052.812723  23063.480157   6015.023898   8989.792776   \n",
       "1   6285.344691   3174.327966  27512.240839   6408.242318   7023.362962   \n",
       "2   7216.360803   2961.247413  33816.637087   1330.858082   3469.125993   \n",
       "3   7826.937417   3105.497689  23275.718499   3290.728275   4153.400976   \n",
       "4   8613.155884   1237.263077  21129.947862  26763.736178   4530.081423   \n",
       "5   1756.126326    851.691031  29158.459295    863.710336    387.375437   \n",
       "6  10545.417975   6709.362603  21399.238359   3224.729877  10723.154972   \n",
       "7  15774.352533   5270.218556  31436.325037     55.927226  14847.032599   \n",
       "8  10747.729577  11634.970301  24635.575993   3996.928419   5859.832530   \n",
       "9   7685.140835  14939.388521  24135.877115   4121.377200  13270.069364   \n",
       "\n",
       "            ES3          VWRD          BTC  \n",
       "0  15509.829544   1621.921718   369.666391  \n",
       "1   6979.081284   9077.185119  1452.835493  \n",
       "2  13784.174373   1526.602381  1968.437978  \n",
       "3  23471.835059    940.261534  1656.628492  \n",
       "4   7083.549722      5.437534   131.603387  \n",
       "5  28430.322381   6509.673336    51.290833  \n",
       "6  14855.282705   3259.053164  1004.289185  \n",
       "7   6940.369114   9938.405262     0.254864  \n",
       "8   8673.494410  10800.324091   169.863840  \n",
       "9   4076.403740   1604.013243  1052.280258  "
      ]
     },
     "execution_count": 76,
     "metadata": {},
     "output_type": "execute_result"
    },
    {
     "data": {
      "application/javascript": [
       "\n",
       "        setTimeout(function() {\n",
       "            var nbb_cell_id = 76;\n",
       "            var nbb_formatted_code = \"# Get top 10 with lowest volatility\\nsortedIndices = np.argsort(simVols)[:10]\\n\\nresults = []\\nfor x in sortedIndices:\\n    results.append(\\n        np.insert(simWeights[x] * 100000, 0, [simSharpes[x], simRets[x], simVols[x]])\\n    )\\npd.DataFrame(results, columns=[\\\"SharpeRatio\\\", \\\"Returns\\\", \\\"Volatility\\\"] + stockNames)\";\n",
       "            var nbb_cells = Jupyter.notebook.get_cells();\n",
       "            for (var i = 0; i < nbb_cells.length; ++i) {\n",
       "                if (nbb_cells[i].input_prompt_number == nbb_cell_id) {\n",
       "                    nbb_cells[i].set_text(nbb_formatted_code);\n",
       "                    break;\n",
       "                }\n",
       "            }\n",
       "        }, 500);\n",
       "        "
      ],
      "text/plain": [
       "<IPython.core.display.Javascript object>"
      ]
     },
     "metadata": {},
     "output_type": "display_data"
    }
   ],
   "source": [
    "# Get top 10 with lowest volatility\n",
    "sortedIndices = np.argsort(simVols)[:10]\n",
    "\n",
    "results = []\n",
    "for x in sortedIndices:\n",
    "    results.append(\n",
    "        np.insert(simWeights[x] * 100000, 0, [simSharpes[x], simRets[x], simVols[x]])\n",
    "    )\n",
    "pd.DataFrame(results, columns=[\"SharpeRatio\", \"Returns\", \"Volatility\"] + stockNames)"
   ]
  },
  {
   "cell_type": "code",
   "execution_count": 77,
   "metadata": {},
   "outputs": [
    {
     "data": {
      "text/html": [
       "<div>\n",
       "<style scoped>\n",
       "    .dataframe tbody tr th:only-of-type {\n",
       "        vertical-align: middle;\n",
       "    }\n",
       "\n",
       "    .dataframe tbody tr th {\n",
       "        vertical-align: top;\n",
       "    }\n",
       "\n",
       "    .dataframe thead th {\n",
       "        text-align: right;\n",
       "    }\n",
       "</style>\n",
       "<table border=\"1\" class=\"dataframe\">\n",
       "  <thead>\n",
       "    <tr style=\"text-align: right;\">\n",
       "      <th></th>\n",
       "      <th>SharpeRatio</th>\n",
       "      <th>Returns</th>\n",
       "      <th>Volatility</th>\n",
       "      <th>VUSA</th>\n",
       "      <th>A35</th>\n",
       "      <th>S59</th>\n",
       "      <th>VUSD</th>\n",
       "      <th>BAB</th>\n",
       "      <th>IWDA</th>\n",
       "      <th>Z74</th>\n",
       "      <th>ES3</th>\n",
       "      <th>VWRD</th>\n",
       "      <th>BTC</th>\n",
       "    </tr>\n",
       "  </thead>\n",
       "  <tbody>\n",
       "    <tr>\n",
       "      <th>0</th>\n",
       "      <td>8.702161</td>\n",
       "      <td>0.084005</td>\n",
       "      <td>0.007355</td>\n",
       "      <td>19411.604744</td>\n",
       "      <td>11999.027338</td>\n",
       "      <td>1415.873650</td>\n",
       "      <td>3749.786590</td>\n",
       "      <td>23804.785431</td>\n",
       "      <td>22652.264288</td>\n",
       "      <td>4350.576832</td>\n",
       "      <td>5911.840450</td>\n",
       "      <td>2268.766600</td>\n",
       "      <td>4435.474076</td>\n",
       "    </tr>\n",
       "    <tr>\n",
       "      <th>1</th>\n",
       "      <td>8.709481</td>\n",
       "      <td>0.071465</td>\n",
       "      <td>0.005909</td>\n",
       "      <td>1805.613084</td>\n",
       "      <td>19045.615498</td>\n",
       "      <td>2726.574941</td>\n",
       "      <td>11708.585321</td>\n",
       "      <td>26341.191692</td>\n",
       "      <td>21669.197942</td>\n",
       "      <td>3145.870709</td>\n",
       "      <td>4264.256207</td>\n",
       "      <td>5129.508046</td>\n",
       "      <td>4163.586560</td>\n",
       "    </tr>\n",
       "    <tr>\n",
       "      <th>2</th>\n",
       "      <td>8.742592</td>\n",
       "      <td>0.079934</td>\n",
       "      <td>0.006855</td>\n",
       "      <td>15015.262975</td>\n",
       "      <td>15734.565246</td>\n",
       "      <td>3435.294558</td>\n",
       "      <td>8756.671894</td>\n",
       "      <td>21920.742833</td>\n",
       "      <td>21106.304478</td>\n",
       "      <td>604.537922</td>\n",
       "      <td>4922.286129</td>\n",
       "      <td>4576.849764</td>\n",
       "      <td>3927.484200</td>\n",
       "    </tr>\n",
       "    <tr>\n",
       "      <th>3</th>\n",
       "      <td>8.797854</td>\n",
       "      <td>0.094870</td>\n",
       "      <td>0.008510</td>\n",
       "      <td>19223.484061</td>\n",
       "      <td>9776.211141</td>\n",
       "      <td>726.603606</td>\n",
       "      <td>14163.621293</td>\n",
       "      <td>23982.992421</td>\n",
       "      <td>19164.539263</td>\n",
       "      <td>1888.743163</td>\n",
       "      <td>5937.738643</td>\n",
       "      <td>333.013462</td>\n",
       "      <td>4803.052948</td>\n",
       "    </tr>\n",
       "    <tr>\n",
       "      <th>4</th>\n",
       "      <td>8.809849</td>\n",
       "      <td>0.057327</td>\n",
       "      <td>0.004237</td>\n",
       "      <td>23479.370962</td>\n",
       "      <td>19130.970055</td>\n",
       "      <td>677.972538</td>\n",
       "      <td>1792.247749</td>\n",
       "      <td>31331.650517</td>\n",
       "      <td>11252.666850</td>\n",
       "      <td>2113.669327</td>\n",
       "      <td>2874.768871</td>\n",
       "      <td>5926.561476</td>\n",
       "      <td>1420.121656</td>\n",
       "    </tr>\n",
       "    <tr>\n",
       "      <th>5</th>\n",
       "      <td>8.850093</td>\n",
       "      <td>0.075194</td>\n",
       "      <td>0.006237</td>\n",
       "      <td>22011.516529</td>\n",
       "      <td>18750.424940</td>\n",
       "      <td>1057.588908</td>\n",
       "      <td>9193.151750</td>\n",
       "      <td>20669.605730</td>\n",
       "      <td>12364.858375</td>\n",
       "      <td>1001.818279</td>\n",
       "      <td>11048.753004</td>\n",
       "      <td>313.693601</td>\n",
       "      <td>3588.588885</td>\n",
       "    </tr>\n",
       "    <tr>\n",
       "      <th>6</th>\n",
       "      <td>8.871101</td>\n",
       "      <td>0.077711</td>\n",
       "      <td>0.006506</td>\n",
       "      <td>13176.536056</td>\n",
       "      <td>25096.587263</td>\n",
       "      <td>1397.918285</td>\n",
       "      <td>23163.447635</td>\n",
       "      <td>16842.521666</td>\n",
       "      <td>9487.288716</td>\n",
       "      <td>9.722625</td>\n",
       "      <td>3073.149454</td>\n",
       "      <td>4807.446834</td>\n",
       "      <td>2945.381465</td>\n",
       "    </tr>\n",
       "    <tr>\n",
       "      <th>7</th>\n",
       "      <td>8.966423</td>\n",
       "      <td>0.073437</td>\n",
       "      <td>0.005960</td>\n",
       "      <td>15430.036717</td>\n",
       "      <td>19479.225190</td>\n",
       "      <td>325.864224</td>\n",
       "      <td>5325.437803</td>\n",
       "      <td>20852.134893</td>\n",
       "      <td>19970.418718</td>\n",
       "      <td>3305.010842</td>\n",
       "      <td>5492.434378</td>\n",
       "      <td>6790.983299</td>\n",
       "      <td>3028.453936</td>\n",
       "    </tr>\n",
       "    <tr>\n",
       "      <th>8</th>\n",
       "      <td>8.986578</td>\n",
       "      <td>0.060371</td>\n",
       "      <td>0.004492</td>\n",
       "      <td>11090.827965</td>\n",
       "      <td>20378.438216</td>\n",
       "      <td>352.889076</td>\n",
       "      <td>4570.103964</td>\n",
       "      <td>26321.197778</td>\n",
       "      <td>19536.878332</td>\n",
       "      <td>5040.458564</td>\n",
       "      <td>5432.256383</td>\n",
       "      <td>4980.073452</td>\n",
       "      <td>2296.876271</td>\n",
       "    </tr>\n",
       "    <tr>\n",
       "      <th>9</th>\n",
       "      <td>9.525976</td>\n",
       "      <td>0.080642</td>\n",
       "      <td>0.006366</td>\n",
       "      <td>17899.606713</td>\n",
       "      <td>14606.543948</td>\n",
       "      <td>624.082725</td>\n",
       "      <td>20692.840975</td>\n",
       "      <td>28909.341075</td>\n",
       "      <td>5529.700368</td>\n",
       "      <td>2576.045165</td>\n",
       "      <td>3078.659425</td>\n",
       "      <td>2342.908832</td>\n",
       "      <td>3740.270775</td>\n",
       "    </tr>\n",
       "  </tbody>\n",
       "</table>\n",
       "</div>"
      ],
      "text/plain": [
       "   SharpeRatio   Returns  Volatility          VUSA           A35          S59  \\\n",
       "0     8.702161  0.084005    0.007355  19411.604744  11999.027338  1415.873650   \n",
       "1     8.709481  0.071465    0.005909   1805.613084  19045.615498  2726.574941   \n",
       "2     8.742592  0.079934    0.006855  15015.262975  15734.565246  3435.294558   \n",
       "3     8.797854  0.094870    0.008510  19223.484061   9776.211141   726.603606   \n",
       "4     8.809849  0.057327    0.004237  23479.370962  19130.970055   677.972538   \n",
       "5     8.850093  0.075194    0.006237  22011.516529  18750.424940  1057.588908   \n",
       "6     8.871101  0.077711    0.006506  13176.536056  25096.587263  1397.918285   \n",
       "7     8.966423  0.073437    0.005960  15430.036717  19479.225190   325.864224   \n",
       "8     8.986578  0.060371    0.004492  11090.827965  20378.438216   352.889076   \n",
       "9     9.525976  0.080642    0.006366  17899.606713  14606.543948   624.082725   \n",
       "\n",
       "           VUSD           BAB          IWDA          Z74           ES3  \\\n",
       "0   3749.786590  23804.785431  22652.264288  4350.576832   5911.840450   \n",
       "1  11708.585321  26341.191692  21669.197942  3145.870709   4264.256207   \n",
       "2   8756.671894  21920.742833  21106.304478   604.537922   4922.286129   \n",
       "3  14163.621293  23982.992421  19164.539263  1888.743163   5937.738643   \n",
       "4   1792.247749  31331.650517  11252.666850  2113.669327   2874.768871   \n",
       "5   9193.151750  20669.605730  12364.858375  1001.818279  11048.753004   \n",
       "6  23163.447635  16842.521666   9487.288716     9.722625   3073.149454   \n",
       "7   5325.437803  20852.134893  19970.418718  3305.010842   5492.434378   \n",
       "8   4570.103964  26321.197778  19536.878332  5040.458564   5432.256383   \n",
       "9  20692.840975  28909.341075   5529.700368  2576.045165   3078.659425   \n",
       "\n",
       "          VWRD          BTC  \n",
       "0  2268.766600  4435.474076  \n",
       "1  5129.508046  4163.586560  \n",
       "2  4576.849764  3927.484200  \n",
       "3   333.013462  4803.052948  \n",
       "4  5926.561476  1420.121656  \n",
       "5   313.693601  3588.588885  \n",
       "6  4807.446834  2945.381465  \n",
       "7  6790.983299  3028.453936  \n",
       "8  4980.073452  2296.876271  \n",
       "9  2342.908832  3740.270775  "
      ]
     },
     "execution_count": 77,
     "metadata": {},
     "output_type": "execute_result"
    },
    {
     "data": {
      "application/javascript": [
       "\n",
       "        setTimeout(function() {\n",
       "            var nbb_cell_id = 77;\n",
       "            var nbb_formatted_code = \"# Get top 10 portfolio with highest sharpe\\nsortedIndices = np.argsort(simSharpes)[-10:]\\n\\nresults = []\\nfor x in sortedIndices:\\n    results.append(\\n        np.insert(simWeights[x] * 100000, 0, [simSharpes[x], simRets[x], simVols[x]])\\n    )\\npd.DataFrame(results, columns=[\\\"SharpeRatio\\\", \\\"Returns\\\", \\\"Volatility\\\"] + stockNames)\";\n",
       "            var nbb_cells = Jupyter.notebook.get_cells();\n",
       "            for (var i = 0; i < nbb_cells.length; ++i) {\n",
       "                if (nbb_cells[i].input_prompt_number == nbb_cell_id) {\n",
       "                    nbb_cells[i].set_text(nbb_formatted_code);\n",
       "                    break;\n",
       "                }\n",
       "            }\n",
       "        }, 500);\n",
       "        "
      ],
      "text/plain": [
       "<IPython.core.display.Javascript object>"
      ]
     },
     "metadata": {},
     "output_type": "display_data"
    }
   ],
   "source": [
    "# Get top 10 portfolio with highest sharpe\n",
    "sortedIndices = np.argsort(simSharpes)[-10:]\n",
    "\n",
    "results = []\n",
    "for x in sortedIndices:\n",
    "    results.append(\n",
    "        np.insert(simWeights[x] * 100000, 0, [simSharpes[x], simRets[x], simVols[x]])\n",
    "    )\n",
    "pd.DataFrame(results, columns=[\"SharpeRatio\", \"Returns\", \"Volatility\"] + stockNames)"
   ]
  },
  {
   "cell_type": "markdown",
   "metadata": {},
   "source": [
    "## Future Improvements\n",
    "\n",
    "- Simulation of 100k scenarios is too slow, consider using genetics algorithm to find minima\n",
    "- Account for foreign currency conversion rates\n",
    "- K-fold cross validation to ensure the portfolio works for all market condition\n",
    "- Backtest portfolio in different market conditions\n",
    "- Add regular rebalancing into backtest\n",
    "- Simulated returns of portfolio\n",
    "- Difference in trading day alter covariance (BTC)"
   ]
  },
  {
   "cell_type": "code",
   "execution_count": null,
   "metadata": {},
   "outputs": [],
   "source": []
  }
 ],
 "metadata": {
  "kernelspec": {
   "display_name": "Python 3",
   "language": "python",
   "name": "python3"
  },
  "language_info": {
   "codemirror_mode": {
    "name": "ipython",
    "version": 3
   },
   "file_extension": ".py",
   "mimetype": "text/x-python",
   "name": "python",
   "nbconvert_exporter": "python",
   "pygments_lexer": "ipython3",
   "version": "3.7.3"
  }
 },
 "nbformat": 4,
 "nbformat_minor": 2
}
