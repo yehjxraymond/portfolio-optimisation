{
 "cells": [
  {
   "cell_type": "code",
   "execution_count": 12,
   "metadata": {},
   "outputs": [],
   "source": [
    "import importlib\n",
    "import model.Portfolio as Portfolio\n",
    "import numpy as np\n",
    "import matplotlib.pyplot as plt\n",
    "import pandas as pd\n",
    "\n",
    "# importlib.reload(Portfolio)"
   ]
  },
  {
   "cell_type": "code",
   "execution_count": 2,
   "metadata": {},
   "outputs": [],
   "source": [
    "names = [\"VUSA\", \"A35\", \"S59\", \"VUSD\", \"BAB\", \"IWDA\", \"Z74\", \"ES3\", \"VWRD\", \"BTC\"]\n",
    "p = Portfolio.Portfolio()\n",
    "\n",
    "# Add all assets\n",
    "for name in names:\n",
    "    p.addAsset(f\"data/{name}.csv\", name)\n",
    "\n",
    "# Convert non SGD assets to SGD\n",
    "p.addExchangeRate(\"data/forex/SGDEUR.csv\", \"EUR\", True)\n",
    "p.addExchangeRate(\"data/forex/USDSGD.csv\", \"USD\", False)\n",
    "p.exchangeAdjustment(0, \"EUR\")\n",
    "p.exchangeAdjustment(3, \"USD\")\n",
    "p.exchangeAdjustment(4, \"USD\")\n",
    "p.exchangeAdjustment(5, \"USD\")\n",
    "p.exchangeAdjustment(8, \"USD\")\n",
    "p.exchangeAdjustment(9, \"USD\")"
   ]
  },
  {
   "cell_type": "code",
   "execution_count": 3,
   "metadata": {},
   "outputs": [
    {
     "data": {
      "text/plain": [
       "{'returns': 0.046602380697228225,\n",
       " 'variance': 0.004724437320510276,\n",
       " 'sharpe': 9.864112387503281}"
      ]
     },
     "execution_count": 3,
     "metadata": {},
     "output_type": "execute_result"
    }
   ],
   "source": [
    "currentWeight = [\n",
    "    0.08992020522,\n",
    "    0.2744348384,\n",
    "    0.03070927321,\n",
    "    0.01896821775,\n",
    "    0.06166520726,\n",
    "    0.06204753154,\n",
    "    0.02053451402,\n",
    "    0.3393806347,\n",
    "    0.102339578,\n",
    "]\n",
    "\n",
    "p.portfolioPerformance(currentWeight)"
   ]
  },
  {
   "cell_type": "code",
   "execution_count": 4,
   "metadata": {},
   "outputs": [],
   "source": [
    "def randomWeight(length):\n",
    "    w = np.random.random(length)\n",
    "    w /= np.sum(w)\n",
    "    return w"
   ]
  },
  {
   "cell_type": "code",
   "execution_count": 7,
   "metadata": {},
   "outputs": [
    {
     "name": "stdout",
     "output_type": "stream",
     "text": [
      "CPU times: user 3.2 s, sys: 0 ns, total: 3.2 s\n",
      "Wall time: 3.2 s\n"
     ]
    }
   ],
   "source": [
    "%%time\n",
    "\n",
    "noSimulations = 1000\n",
    "rf = 0.02\n",
    "simWeights = []\n",
    "simRets = []\n",
    "simVols = []\n",
    "simSharpes = []\n",
    "\n",
    "for i in range(noSimulations):\n",
    "    weights = randomWeight(len(names))\n",
    "    perf = p.portfolioPerformance(weights, rf=rf)\n",
    "\n",
    "    simWeights.append(weights)\n",
    "    simRets.append(perf[\"returns\"])\n",
    "    simVols.append(perf[\"variance\"])\n",
    "    simSharpes.append(perf[\"sharpe\"])"
   ]
  },
  {
   "cell_type": "code",
   "execution_count": 10,
   "metadata": {},
   "outputs": [
    {
     "data": {
      "image/png": "[encoded data removed]",
      "text/plain": [
       "<Figure size 576x288 with 2 Axes>"
      ]
     },
     "metadata": {
      "needs_background": "light"
     },
     "output_type": "display_data"
    }
   ],
   "source": [
    "plt.figure(figsize=(8, 4))\n",
    "plt.scatter(simVols, simRets, c=simSharpes, marker=\"o\")\n",
    "plt.grid(True)\n",
    "plt.xlabel(\"Expected volatility\")\n",
    "plt.ylabel(\"Expected return\")\n",
    "plt.colorbar(label=\"Sharpe ratio\")\n",
    "plt.show()"
   ]
  },
  {
   "cell_type": "code",
   "execution_count": 14,
   "metadata": {},
   "outputs": [
    {
     "data": {
      "text/html": [
       "<div>\n",
       "<style scoped>\n",
       "    .dataframe tbody tr th:only-of-type {\n",
       "        vertical-align: middle;\n",
       "    }\n",
       "\n",
       "    .dataframe tbody tr th {\n",
       "        vertical-align: top;\n",
       "    }\n",
       "\n",
       "    .dataframe thead th {\n",
       "        text-align: right;\n",
       "    }\n",
       "</style>\n",
       "<table border=\"1\" class=\"dataframe\">\n",
       "  <thead>\n",
       "    <tr style=\"text-align: right;\">\n",
       "      <th></th>\n",
       "      <th>SharpeRatio</th>\n",
       "      <th>Returns</th>\n",
       "      <th>Volatility</th>\n",
       "      <th>VUSA</th>\n",
       "      <th>A35</th>\n",
       "      <th>S59</th>\n",
       "      <th>VUSD</th>\n",
       "      <th>BAB</th>\n",
       "      <th>IWDA</th>\n",
       "      <th>Z74</th>\n",
       "      <th>ES3</th>\n",
       "      <th>VWRD</th>\n",
       "      <th>BTC</th>\n",
       "    </tr>\n",
       "  </thead>\n",
       "  <tbody>\n",
       "    <tr>\n",
       "      <th>0</th>\n",
       "      <td>9.625884</td>\n",
       "      <td>0.080735</td>\n",
       "      <td>0.006310</td>\n",
       "      <td>0.145117</td>\n",
       "      <td>0.115244</td>\n",
       "      <td>0.020449</td>\n",
       "      <td>0.141200</td>\n",
       "      <td>0.198525</td>\n",
       "      <td>0.001551</td>\n",
       "      <td>0.193575</td>\n",
       "      <td>0.027290</td>\n",
       "      <td>0.137258</td>\n",
       "      <td>0.019793</td>\n",
       "    </tr>\n",
       "    <tr>\n",
       "      <th>1</th>\n",
       "      <td>9.692194</td>\n",
       "      <td>0.097966</td>\n",
       "      <td>0.008044</td>\n",
       "      <td>0.115254</td>\n",
       "      <td>0.171918</td>\n",
       "      <td>0.007061</td>\n",
       "      <td>0.052921</td>\n",
       "      <td>0.150497</td>\n",
       "      <td>0.202028</td>\n",
       "      <td>0.001449</td>\n",
       "      <td>0.161596</td>\n",
       "      <td>0.094772</td>\n",
       "      <td>0.042505</td>\n",
       "    </tr>\n",
       "    <tr>\n",
       "      <th>2</th>\n",
       "      <td>9.710198</td>\n",
       "      <td>0.085110</td>\n",
       "      <td>0.006705</td>\n",
       "      <td>0.174095</td>\n",
       "      <td>0.227514</td>\n",
       "      <td>0.062523</td>\n",
       "      <td>0.044917</td>\n",
       "      <td>0.139438</td>\n",
       "      <td>0.170955</td>\n",
       "      <td>0.001758</td>\n",
       "      <td>0.060845</td>\n",
       "      <td>0.086021</td>\n",
       "      <td>0.031933</td>\n",
       "    </tr>\n",
       "    <tr>\n",
       "      <th>3</th>\n",
       "      <td>9.711750</td>\n",
       "      <td>0.075542</td>\n",
       "      <td>0.005719</td>\n",
       "      <td>0.104861</td>\n",
       "      <td>0.237990</td>\n",
       "      <td>0.076070</td>\n",
       "      <td>0.045984</td>\n",
       "      <td>0.191433</td>\n",
       "      <td>0.043435</td>\n",
       "      <td>0.053745</td>\n",
       "      <td>0.082969</td>\n",
       "      <td>0.123429</td>\n",
       "      <td>0.040083</td>\n",
       "    </tr>\n",
       "    <tr>\n",
       "      <th>4</th>\n",
       "      <td>9.797327</td>\n",
       "      <td>0.080311</td>\n",
       "      <td>0.006156</td>\n",
       "      <td>0.133239</td>\n",
       "      <td>0.155950</td>\n",
       "      <td>0.018414</td>\n",
       "      <td>0.129060</td>\n",
       "      <td>0.156110</td>\n",
       "      <td>0.043696</td>\n",
       "      <td>0.055669</td>\n",
       "      <td>0.138470</td>\n",
       "      <td>0.152055</td>\n",
       "      <td>0.017337</td>\n",
       "    </tr>\n",
       "    <tr>\n",
       "      <th>5</th>\n",
       "      <td>9.806000</td>\n",
       "      <td>0.087717</td>\n",
       "      <td>0.006906</td>\n",
       "      <td>0.135607</td>\n",
       "      <td>0.161712</td>\n",
       "      <td>0.017000</td>\n",
       "      <td>0.099806</td>\n",
       "      <td>0.155974</td>\n",
       "      <td>0.030168</td>\n",
       "      <td>0.018494</td>\n",
       "      <td>0.178811</td>\n",
       "      <td>0.167982</td>\n",
       "      <td>0.034446</td>\n",
       "    </tr>\n",
       "    <tr>\n",
       "      <th>6</th>\n",
       "      <td>9.866909</td>\n",
       "      <td>0.089178</td>\n",
       "      <td>0.007011</td>\n",
       "      <td>0.126062</td>\n",
       "      <td>0.131871</td>\n",
       "      <td>0.051964</td>\n",
       "      <td>0.155274</td>\n",
       "      <td>0.213701</td>\n",
       "      <td>0.019186</td>\n",
       "      <td>0.087783</td>\n",
       "      <td>0.015556</td>\n",
       "      <td>0.166700</td>\n",
       "      <td>0.031903</td>\n",
       "    </tr>\n",
       "    <tr>\n",
       "      <th>7</th>\n",
       "      <td>9.884521</td>\n",
       "      <td>0.091089</td>\n",
       "      <td>0.007192</td>\n",
       "      <td>0.135480</td>\n",
       "      <td>0.164340</td>\n",
       "      <td>0.035163</td>\n",
       "      <td>0.088767</td>\n",
       "      <td>0.163727</td>\n",
       "      <td>0.171726</td>\n",
       "      <td>0.135817</td>\n",
       "      <td>0.045475</td>\n",
       "      <td>0.020196</td>\n",
       "      <td>0.039309</td>\n",
       "    </tr>\n",
       "    <tr>\n",
       "      <th>8</th>\n",
       "      <td>9.933274</td>\n",
       "      <td>0.081271</td>\n",
       "      <td>0.006168</td>\n",
       "      <td>0.062692</td>\n",
       "      <td>0.139710</td>\n",
       "      <td>0.077793</td>\n",
       "      <td>0.104752</td>\n",
       "      <td>0.193251</td>\n",
       "      <td>0.135549</td>\n",
       "      <td>0.020549</td>\n",
       "      <td>0.179305</td>\n",
       "      <td>0.050336</td>\n",
       "      <td>0.036064</td>\n",
       "    </tr>\n",
       "    <tr>\n",
       "      <th>9</th>\n",
       "      <td>10.024030</td>\n",
       "      <td>0.066781</td>\n",
       "      <td>0.004667</td>\n",
       "      <td>0.211758</td>\n",
       "      <td>0.152719</td>\n",
       "      <td>0.104035</td>\n",
       "      <td>0.008334</td>\n",
       "      <td>0.203971</td>\n",
       "      <td>0.140248</td>\n",
       "      <td>0.047981</td>\n",
       "      <td>0.089565</td>\n",
       "      <td>0.025842</td>\n",
       "      <td>0.015546</td>\n",
       "    </tr>\n",
       "  </tbody>\n",
       "</table>\n",
       "</div>"
      ],
      "text/plain": [
       "   SharpeRatio   Returns  Volatility      VUSA       A35       S59      VUSD  \\\n",
       "0     9.625884  0.080735    0.006310  0.145117  0.115244  0.020449  0.141200   \n",
       "1     9.692194  0.097966    0.008044  0.115254  0.171918  0.007061  0.052921   \n",
       "2     9.710198  0.085110    0.006705  0.174095  0.227514  0.062523  0.044917   \n",
       "3     9.711750  0.075542    0.005719  0.104861  0.237990  0.076070  0.045984   \n",
       "4     9.797327  0.080311    0.006156  0.133239  0.155950  0.018414  0.129060   \n",
       "5     9.806000  0.087717    0.006906  0.135607  0.161712  0.017000  0.099806   \n",
       "6     9.866909  0.089178    0.007011  0.126062  0.131871  0.051964  0.155274   \n",
       "7     9.884521  0.091089    0.007192  0.135480  0.164340  0.035163  0.088767   \n",
       "8     9.933274  0.081271    0.006168  0.062692  0.139710  0.077793  0.104752   \n",
       "9    10.024030  0.066781    0.004667  0.211758  0.152719  0.104035  0.008334   \n",
       "\n",
       "        BAB      IWDA       Z74       ES3      VWRD       BTC  \n",
       "0  0.198525  0.001551  0.193575  0.027290  0.137258  0.019793  \n",
       "1  0.150497  0.202028  0.001449  0.161596  0.094772  0.042505  \n",
       "2  0.139438  0.170955  0.001758  0.060845  0.086021  0.031933  \n",
       "3  0.191433  0.043435  0.053745  0.082969  0.123429  0.040083  \n",
       "4  0.156110  0.043696  0.055669  0.138470  0.152055  0.017337  \n",
       "5  0.155974  0.030168  0.018494  0.178811  0.167982  0.034446  \n",
       "6  0.213701  0.019186  0.087783  0.015556  0.166700  0.031903  \n",
       "7  0.163727  0.171726  0.135817  0.045475  0.020196  0.039309  \n",
       "8  0.193251  0.135549  0.020549  0.179305  0.050336  0.036064  \n",
       "9  0.203971  0.140248  0.047981  0.089565  0.025842  0.015546  "
      ]
     },
     "execution_count": 14,
     "metadata": {},
     "output_type": "execute_result"
    }
   ],
   "source": [
    "# Get top 10 portfolio with highest sharpe\n",
    "sortedIndices = np.argsort(simSharpes)[-10:]\n",
    "\n",
    "results = []\n",
    "for x in sortedIndices:\n",
    "    results.append(np.insert(simWeights[x], 0, [simSharpes[x], simRets[x], simVols[x]]))\n",
    "pd.DataFrame(results, columns=[\"SharpeRatio\", \"Returns\", \"Volatility\"] + names)"
   ]
  },
  {
   "cell_type": "code",
   "execution_count": 28,
   "metadata": {},
   "outputs": [],
   "source": [
    "import scipy.optimize as sco\n",
    "import numpy as np\n",
    "\n",
    "class Optimizer:\n",
    "    def __init__(self, portfolio):\n",
    "        self.portfolio = portfolio\n",
    "\n",
    "    def optimize(self):\n",
    "        numberOfAssets = len(self.portfolio.assetNames)\n",
    "        constraints = {\"type\": \"eq\", \"fun\": lambda x: np.sum(abs(x)) - 1}\n",
    "        bounds = tuple((0, 1) for x in range(numberOfAssets))\n",
    "        initial = np.array(numberOfAssets * [1.0 / numberOfAssets])\n",
    "        options = sco.minimize(\n",
    "            lambda x: -self.portfolio.portfolioPerformance(x, rf=0.02)[\"sharpe\"],\n",
    "            initial,\n",
    "            method=\"SLSQP\",\n",
    "            bounds=bounds,\n",
    "            constraints=constraints,\n",
    "        )\n",
    "        print(options)\n",
    "        return options[\"x\"]"
   ]
  },
  {
   "cell_type": "code",
   "execution_count": 29,
   "metadata": {},
   "outputs": [
    {
     "name": "stdout",
     "output_type": "stream",
     "text": [
      "     fun: -16.825623170149214\n",
      "     jac: array([10.320086  , 10.32507968, 29.0620153 , 11.3801825 , 10.32740974,\n",
      "       10.3241365 , 10.32181072, 10.32520843, 18.95101333, 10.31759048])\n",
      " message: 'Optimization terminated successfully.'\n",
      "    nfev: 206\n",
      "     nit: 16\n",
      "    njev: 16\n",
      "  status: 0\n",
      " success: True\n",
      "       x: array([0.1685908 , 0.16565275, 0.        , 0.        , 0.50039283,\n",
      "       0.04323066, 0.01559638, 0.09344825, 0.        , 0.01308833])\n",
      "CPU times: user 754 ms, sys: 0 ns, total: 754 ms\n",
      "Wall time: 751 ms\n"
     ]
    }
   ],
   "source": [
    "%%time\n",
    "o = Optimizer(p)\n",
    "optimiserWeight = o.optimize()"
   ]
  },
  {
   "cell_type": "code",
   "execution_count": 30,
   "metadata": {},
   "outputs": [
    {
     "data": {
      "text/plain": [
       "{'returns': 0.07176797140197455,\n",
       " 'variance': 0.003076734268827409,\n",
       " 'sharpe': 23.326022051727737}"
      ]
     },
     "execution_count": 30,
     "metadata": {},
     "output_type": "execute_result"
    }
   ],
   "source": [
    "p.portfolioPerformance(optimiserWeight)"
   ]
  },
  {
   "cell_type": "code",
   "execution_count": 32,
   "metadata": {},
   "outputs": [
    {
     "data": {
      "text/plain": [
       "{'VUSA': 0.16859079866869434,\n",
       " 'A35': 0.1656527473150624,\n",
       " 'S59': 0.0,\n",
       " 'VUSD': 0.0,\n",
       " 'BAB': 0.5003928298601455,\n",
       " 'IWDA': 0.04323066028400976,\n",
       " 'Z74': 0.015596381524557066,\n",
       " 'ES3': 0.09344824927743772,\n",
       " 'VWRD': 0.0,\n",
       " 'BTC': 0.013088333075637518}"
      ]
     },
     "execution_count": 32,
     "metadata": {},
     "output_type": "execute_result"
    }
   ],
   "source": [
    "dict(zip(names, optimiserWeight))"
   ]
  },
  {
   "cell_type": "markdown",
   "metadata": {},
   "source": [
    "## Next Step\n",
    "\n",
    "- Timeseries K-fold validation when generating weights\n",
    "    - Monte carlo on K-1 segments of data\n",
    "    - Test result on 1 segment of data\n",
    "- Genetics algorithm\n",
    "- Add backtest capabilities\n",
    "    - Report over the entire period\n",
    "    - Custom period\n",
    "\n",
    "## Even More Advanced Shits\n",
    "\n",
    "- Selective optimisation for time period (ie interest rate hike, financial crisis, etc)"
   ]
  },
  {
   "cell_type": "code",
   "execution_count": null,
   "metadata": {},
   "outputs": [],
   "source": []
  }
 ],
 "metadata": {
  "kernelspec": {
   "display_name": "Python 3",
   "language": "python",
   "name": "python3"
  },
  "language_info": {
   "codemirror_mode": {
    "name": "ipython",
    "version": 3
   },
   "file_extension": ".py",
   "mimetype": "text/x-python",
   "name": "python",
   "nbconvert_exporter": "python",
   "pygments_lexer": "ipython3",
   "version": "3.7.3"
  }
 },
 "nbformat": 4,
 "nbformat_minor": 2
}
